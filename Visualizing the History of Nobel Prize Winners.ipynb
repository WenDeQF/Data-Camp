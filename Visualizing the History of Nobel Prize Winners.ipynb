{
 "cells": [
  {
   "cell_type": "markdown",
   "id": "fe984376-5ca2-45fe-9c8b-4b405883d43c",
   "metadata": {},
   "source": [
    "# Data Analyst with Python Project\n",
    "\n",
    "# Visualizing the History of Nobel Prize Winners"
   ]
  },
  {
   "cell_type": "markdown",
   "id": "fb90de18-1c15-4bd2-87b2-5e1dbfcd6f9c",
   "metadata": {
    "tags": []
   },
   "source": [
    "## <span style=\"color:red;\"> Project Instructions</span>\n",
    "\n",
    "Analyze Nobel Prize winner data and identify patterns by answering the following questions:\n",
    "\n",
    "What is the most commonly awarded gender and birth country?\n",
    "\n",
    "- Store your answers as string variables `top_gender` and `top_country`.\n",
    "\n",
    "Which decade had the highest ratio of US-born Nobel Prize winners to total winners in all categories?\n",
    "\n",
    "- Store this as an integer called `max_decade_usa`.\n",
    "\n",
    "Which decade and Nobel Prize category combination had the highest proportion of female laureates?\n",
    "\n",
    "- Store this as a dictionary called `max_female_dict` where the decade is the key and the category is the value. There should only be one key:value pair.\n",
    "\n",
    "Who was the first woman to receive a Nobel Prize, and in what category?\n",
    "\n",
    "- Save your string answers as `first_woman_name` and `first_woman_category`.\n",
    "\n",
    "Which individuals or organizations have won more than one Nobel Prize throughout the years?\n",
    "\n",
    "- Store the full names in a list named `repeat_list`."
   ]
  },
  {
   "cell_type": "markdown",
   "id": "dbd633ea-2c0a-4bac-a6fe-0cc86896162b",
   "metadata": {},
   "source": [
    "The Nobel Prize has been among the most prestigious international awards since 1901. Each year, awards are bestowed in chemistry, literature, physics, physiology or medicine, economics, and peace. In addition to the honor, prestige, and substantial prize money, the recipient also gets a gold medal with an image of Alfred Nobel (1833 - 1896), who established the prize.\n",
    "\n",
    "The Nobel Foundation has made a dataset available of all prize winners from the outset of the awards from 1901 to 2023. The dataset used in this project is from the Nobel Prize API and is available in the `nobel.csv` file in the `data` folder.\n",
    "\n",
    "In this project, you'll get a chance to explore and answer several questions related to this prizewinning data. And we encourage you then to explore further questions that you're interested in!"
   ]
  },
  {
   "cell_type": "code",
   "execution_count": 4,
   "id": "12c849c3-7ca8-4794-910d-6ad7bbaad9aa",
   "metadata": {
    "tags": []
   },
   "outputs": [
    {
     "data": {
      "text/html": [
       "<div>\n",
       "<style scoped>\n",
       "    .dataframe tbody tr th:only-of-type {\n",
       "        vertical-align: middle;\n",
       "    }\n",
       "\n",
       "    .dataframe tbody tr th {\n",
       "        vertical-align: top;\n",
       "    }\n",
       "\n",
       "    .dataframe thead th {\n",
       "        text-align: right;\n",
       "    }\n",
       "</style>\n",
       "<table border=\"1\" class=\"dataframe\">\n",
       "  <thead>\n",
       "    <tr style=\"text-align: right;\">\n",
       "      <th></th>\n",
       "      <th>year</th>\n",
       "      <th>category</th>\n",
       "      <th>prize</th>\n",
       "      <th>motivation</th>\n",
       "      <th>prize_share</th>\n",
       "      <th>laureate_id</th>\n",
       "      <th>laureate_type</th>\n",
       "      <th>full_name</th>\n",
       "      <th>birth_date</th>\n",
       "      <th>birth_city</th>\n",
       "      <th>birth_country</th>\n",
       "      <th>sex</th>\n",
       "      <th>organization_name</th>\n",
       "      <th>organization_city</th>\n",
       "      <th>organization_country</th>\n",
       "      <th>death_date</th>\n",
       "      <th>death_city</th>\n",
       "      <th>death_country</th>\n",
       "    </tr>\n",
       "  </thead>\n",
       "  <tbody>\n",
       "    <tr>\n",
       "      <th>0</th>\n",
       "      <td>1901</td>\n",
       "      <td>Chemistry</td>\n",
       "      <td>The Nobel Prize in Chemistry 1901</td>\n",
       "      <td>\"in recognition of the extraordinary services ...</td>\n",
       "      <td>1/1</td>\n",
       "      <td>160</td>\n",
       "      <td>Individual</td>\n",
       "      <td>Jacobus Henricus van 't Hoff</td>\n",
       "      <td>1852-08-30</td>\n",
       "      <td>Rotterdam</td>\n",
       "      <td>Netherlands</td>\n",
       "      <td>Male</td>\n",
       "      <td>Berlin University</td>\n",
       "      <td>Berlin</td>\n",
       "      <td>Germany</td>\n",
       "      <td>1911-03-01</td>\n",
       "      <td>Berlin</td>\n",
       "      <td>Germany</td>\n",
       "    </tr>\n",
       "    <tr>\n",
       "      <th>1</th>\n",
       "      <td>1901</td>\n",
       "      <td>Literature</td>\n",
       "      <td>The Nobel Prize in Literature 1901</td>\n",
       "      <td>\"in special recognition of his poetic composit...</td>\n",
       "      <td>1/1</td>\n",
       "      <td>569</td>\n",
       "      <td>Individual</td>\n",
       "      <td>Sully Prudhomme</td>\n",
       "      <td>1839-03-16</td>\n",
       "      <td>Paris</td>\n",
       "      <td>France</td>\n",
       "      <td>Male</td>\n",
       "      <td>NaN</td>\n",
       "      <td>NaN</td>\n",
       "      <td>NaN</td>\n",
       "      <td>1907-09-07</td>\n",
       "      <td>Châtenay</td>\n",
       "      <td>France</td>\n",
       "    </tr>\n",
       "    <tr>\n",
       "      <th>2</th>\n",
       "      <td>1901</td>\n",
       "      <td>Medicine</td>\n",
       "      <td>The Nobel Prize in Physiology or Medicine 1901</td>\n",
       "      <td>\"for his work on serum therapy, especially its...</td>\n",
       "      <td>1/1</td>\n",
       "      <td>293</td>\n",
       "      <td>Individual</td>\n",
       "      <td>Emil Adolf von Behring</td>\n",
       "      <td>1854-03-15</td>\n",
       "      <td>Hansdorf (Lawice)</td>\n",
       "      <td>Prussia (Poland)</td>\n",
       "      <td>Male</td>\n",
       "      <td>Marburg University</td>\n",
       "      <td>Marburg</td>\n",
       "      <td>Germany</td>\n",
       "      <td>1917-03-31</td>\n",
       "      <td>Marburg</td>\n",
       "      <td>Germany</td>\n",
       "    </tr>\n",
       "    <tr>\n",
       "      <th>3</th>\n",
       "      <td>1901</td>\n",
       "      <td>Peace</td>\n",
       "      <td>The Nobel Peace Prize 1901</td>\n",
       "      <td>NaN</td>\n",
       "      <td>1/2</td>\n",
       "      <td>462</td>\n",
       "      <td>Individual</td>\n",
       "      <td>Jean Henry Dunant</td>\n",
       "      <td>1828-05-08</td>\n",
       "      <td>Geneva</td>\n",
       "      <td>Switzerland</td>\n",
       "      <td>Male</td>\n",
       "      <td>NaN</td>\n",
       "      <td>NaN</td>\n",
       "      <td>NaN</td>\n",
       "      <td>1910-10-30</td>\n",
       "      <td>Heiden</td>\n",
       "      <td>Switzerland</td>\n",
       "    </tr>\n",
       "    <tr>\n",
       "      <th>4</th>\n",
       "      <td>1901</td>\n",
       "      <td>Peace</td>\n",
       "      <td>The Nobel Peace Prize 1901</td>\n",
       "      <td>NaN</td>\n",
       "      <td>1/2</td>\n",
       "      <td>463</td>\n",
       "      <td>Individual</td>\n",
       "      <td>Frédéric Passy</td>\n",
       "      <td>1822-05-20</td>\n",
       "      <td>Paris</td>\n",
       "      <td>France</td>\n",
       "      <td>Male</td>\n",
       "      <td>NaN</td>\n",
       "      <td>NaN</td>\n",
       "      <td>NaN</td>\n",
       "      <td>1912-06-12</td>\n",
       "      <td>Paris</td>\n",
       "      <td>France</td>\n",
       "    </tr>\n",
       "  </tbody>\n",
       "</table>\n",
       "</div>"
      ],
      "text/plain": [
       "   year    category                                           prize  \\\n",
       "0  1901   Chemistry               The Nobel Prize in Chemistry 1901   \n",
       "1  1901  Literature              The Nobel Prize in Literature 1901   \n",
       "2  1901    Medicine  The Nobel Prize in Physiology or Medicine 1901   \n",
       "3  1901       Peace                      The Nobel Peace Prize 1901   \n",
       "4  1901       Peace                      The Nobel Peace Prize 1901   \n",
       "\n",
       "                                          motivation prize_share  laureate_id  \\\n",
       "0  \"in recognition of the extraordinary services ...         1/1          160   \n",
       "1  \"in special recognition of his poetic composit...         1/1          569   \n",
       "2  \"for his work on serum therapy, especially its...         1/1          293   \n",
       "3                                                NaN         1/2          462   \n",
       "4                                                NaN         1/2          463   \n",
       "\n",
       "  laureate_type                     full_name  birth_date         birth_city  \\\n",
       "0    Individual  Jacobus Henricus van 't Hoff  1852-08-30          Rotterdam   \n",
       "1    Individual               Sully Prudhomme  1839-03-16              Paris   \n",
       "2    Individual        Emil Adolf von Behring  1854-03-15  Hansdorf (Lawice)   \n",
       "3    Individual             Jean Henry Dunant  1828-05-08             Geneva   \n",
       "4    Individual                Frédéric Passy  1822-05-20              Paris   \n",
       "\n",
       "      birth_country   sex   organization_name organization_city  \\\n",
       "0       Netherlands  Male   Berlin University            Berlin   \n",
       "1            France  Male                 NaN               NaN   \n",
       "2  Prussia (Poland)  Male  Marburg University           Marburg   \n",
       "3       Switzerland  Male                 NaN               NaN   \n",
       "4            France  Male                 NaN               NaN   \n",
       "\n",
       "  organization_country  death_date death_city death_country  \n",
       "0              Germany  1911-03-01     Berlin       Germany  \n",
       "1                  NaN  1907-09-07   Châtenay        France  \n",
       "2              Germany  1917-03-31    Marburg       Germany  \n",
       "3                  NaN  1910-10-30     Heiden   Switzerland  \n",
       "4                  NaN  1912-06-12      Paris        France  "
      ]
     },
     "execution_count": 4,
     "metadata": {},
     "output_type": "execute_result"
    }
   ],
   "source": [
    "# Loading in required libraries\n",
    "import pandas as pd\n",
    "import seaborn as sns\n",
    "import numpy as np\n",
    "\n",
    "# Read in the Nobel Prize data\n",
    "nobel = pd.read_csv(r\"C:\\Users\\wende\\Desktop\\DataCamp\\Data Analyst with Python\\9 Visualizing the History of Nobel Prize Winners\\workspace\\data\\nobel.csv\")\n",
    "nobel.head()\n"
   ]
  },
  {
   "cell_type": "markdown",
   "id": "b9245097-67c3-4421-8a74-ce0843cdc09c",
   "metadata": {},
   "source": [
    "### Part A\n",
    "\n",
    "What is the most commonly awarded gender and birth country?\n",
    "\n",
    "- Store your answers as string variables `top_gender` and `top_country`."
   ]
  },
  {
   "cell_type": "code",
   "execution_count": 6,
   "id": "ef07a61b-969c-42b7-afaf-3910bf690ca5",
   "metadata": {
    "tags": []
   },
   "outputs": [
    {
     "data": {
      "text/plain": [
       "sex\n",
       "Male      905\n",
       "Female     65\n",
       "Name: count, dtype: int64"
      ]
     },
     "execution_count": 6,
     "metadata": {},
     "output_type": "execute_result"
    }
   ],
   "source": [
    "#counting the value for \"sex column\"\n",
    "nobel[\"sex\"].value_counts()"
   ]
  },
  {
   "cell_type": "code",
   "execution_count": 7,
   "id": "a09ea206-8e0d-43e8-8ad8-ac3438cc0d96",
   "metadata": {
    "tags": []
   },
   "outputs": [
    {
     "data": {
      "text/plain": [
       "'Male'"
      ]
     },
     "execution_count": 7,
     "metadata": {},
     "output_type": "execute_result"
    }
   ],
   "source": [
    "#assigning as top_gender\n",
    "\n",
    "top_gender = nobel[\"sex\"].value_counts().index[0]\n",
    "top_gender"
   ]
  },
  {
   "cell_type": "code",
   "execution_count": 8,
   "id": "198c757d-fc5c-4b9c-831b-156acdcfc53f",
   "metadata": {
    "tags": []
   },
   "outputs": [
    {
     "data": {
      "text/plain": [
       "birth_country\n",
       "United States of America                        291\n",
       "United Kingdom                                   91\n",
       "Germany                                          67\n",
       "France                                           58\n",
       "Sweden                                           30\n",
       "                                               ... \n",
       "Austria-Hungary (Ukraine)                         1\n",
       "Ottoman Empire (Turkey)                           1\n",
       "Russian Empire (Azerbaijan)                       1\n",
       "Bosnia (Bosnia and Herzegovina)                   1\n",
       "French protectorate of Tunisia (now Tunisia)      1\n",
       "Name: count, Length: 129, dtype: int64"
      ]
     },
     "execution_count": 8,
     "metadata": {},
     "output_type": "execute_result"
    }
   ],
   "source": [
    "#counting the value for \"birth_country column\"\n",
    "nobel[\"birth_country\"].value_counts()"
   ]
  },
  {
   "cell_type": "code",
   "execution_count": 9,
   "id": "d7672a83-9821-42a0-b09d-a71458e512cb",
   "metadata": {
    "tags": []
   },
   "outputs": [
    {
     "data": {
      "text/plain": [
       "'United States of America'"
      ]
     },
     "execution_count": 9,
     "metadata": {},
     "output_type": "execute_result"
    }
   ],
   "source": [
    "#assigning as top_country\n",
    "\n",
    "top_country = nobel[\"birth_country\"].value_counts().index[0]\n",
    "top_country"
   ]
  },
  {
   "cell_type": "code",
   "execution_count": 10,
   "id": "63b06fed-747e-4f2e-8172-47bf662d5dc6",
   "metadata": {
    "tags": []
   },
   "outputs": [
    {
     "name": "stdout",
     "output_type": "stream",
     "text": [
      "\n",
      " The gender with the most Nobel laureates is : Male\n",
      " The most common birth country of Nobel laureates is : United States of America\n"
     ]
    }
   ],
   "source": [
    "print(\"\\n The gender with the most Nobel laureates is :\", top_gender)\n",
    "print(\" The most common birth country of Nobel laureates is :\", top_country)"
   ]
  },
  {
   "cell_type": "markdown",
   "id": "e1f35004-d174-4010-a6e4-c7502085ff0c",
   "metadata": {},
   "source": [
    "### Part B"
   ]
  },
  {
   "cell_type": "markdown",
   "id": "093540a6-a12c-4b31-8b78-c331d75a1ce5",
   "metadata": {},
   "source": [
    "Which decade had the highest ratio of US-born Nobel Prize winners to total winners in all categories?\n",
    "\n",
    "- Store this as an integer called `max_decade_usa`."
   ]
  },
  {
   "cell_type": "code",
   "execution_count": 22,
   "id": "f1749b16-1c76-4ed1-8859-580d3df7b8ed",
   "metadata": {
    "tags": []
   },
   "outputs": [],
   "source": [
    "### Creating a new column\n",
    "\n",
    "nobel[\"born_in_usa\"] = nobel[\"birth_country\"] == \"United States of America\""
   ]
  },
  {
   "cell_type": "markdown",
   "id": "51f8e1e5-22c3-437b-844e-a22229e6cd9b",
   "metadata": {},
   "source": [
    "The `numpy.floor` is a mathematical function that returns the floor of the elements of array. The floor of the scalar x is the largest integer i, such that i <= x."
   ]
  },
  {
   "cell_type": "code",
   "execution_count": 29,
   "id": "a860a4ef-5d1e-4713-bcf1-29a84e37aaa3",
   "metadata": {
    "tags": []
   },
   "outputs": [
    {
     "data": {
      "text/plain": [
       "0      1900\n",
       "1      1900\n",
       "2      1900\n",
       "3      1900\n",
       "4      1900\n",
       "       ... \n",
       "995    2020\n",
       "996    2020\n",
       "997    2020\n",
       "998    2020\n",
       "999    2020\n",
       "Name: decade, Length: 1000, dtype: int32"
      ]
     },
     "execution_count": 29,
     "metadata": {},
     "output_type": "execute_result"
    }
   ],
   "source": [
    "nobel['decade'] = (np.floor(nobel['year'] / 10) * 10).astype(int)\n",
    "nobel['decade']"
   ]
  },
  {
   "cell_type": "code",
   "execution_count": 39,
   "id": "b8a2cba4-f729-4d4a-8687-ac1084926761",
   "metadata": {
    "tags": []
   },
   "outputs": [
    {
     "data": {
      "text/html": [
       "<div>\n",
       "<style scoped>\n",
       "    .dataframe tbody tr th:only-of-type {\n",
       "        vertical-align: middle;\n",
       "    }\n",
       "\n",
       "    .dataframe tbody tr th {\n",
       "        vertical-align: top;\n",
       "    }\n",
       "\n",
       "    .dataframe thead th {\n",
       "        text-align: right;\n",
       "    }\n",
       "</style>\n",
       "<table border=\"1\" class=\"dataframe\">\n",
       "  <thead>\n",
       "    <tr style=\"text-align: right;\">\n",
       "      <th></th>\n",
       "      <th>decade</th>\n",
       "      <th>born_in_usa</th>\n",
       "    </tr>\n",
       "  </thead>\n",
       "  <tbody>\n",
       "    <tr>\n",
       "      <th>0</th>\n",
       "      <td>1900</td>\n",
       "      <td>0.017544</td>\n",
       "    </tr>\n",
       "    <tr>\n",
       "      <th>1</th>\n",
       "      <td>1910</td>\n",
       "      <td>0.075000</td>\n",
       "    </tr>\n",
       "    <tr>\n",
       "      <th>2</th>\n",
       "      <td>1920</td>\n",
       "      <td>0.074074</td>\n",
       "    </tr>\n",
       "    <tr>\n",
       "      <th>3</th>\n",
       "      <td>1930</td>\n",
       "      <td>0.250000</td>\n",
       "    </tr>\n",
       "    <tr>\n",
       "      <th>4</th>\n",
       "      <td>1940</td>\n",
       "      <td>0.302326</td>\n",
       "    </tr>\n",
       "    <tr>\n",
       "      <th>5</th>\n",
       "      <td>1950</td>\n",
       "      <td>0.291667</td>\n",
       "    </tr>\n",
       "    <tr>\n",
       "      <th>6</th>\n",
       "      <td>1960</td>\n",
       "      <td>0.265823</td>\n",
       "    </tr>\n",
       "    <tr>\n",
       "      <th>7</th>\n",
       "      <td>1970</td>\n",
       "      <td>0.317308</td>\n",
       "    </tr>\n",
       "    <tr>\n",
       "      <th>8</th>\n",
       "      <td>1980</td>\n",
       "      <td>0.319588</td>\n",
       "    </tr>\n",
       "    <tr>\n",
       "      <th>9</th>\n",
       "      <td>1990</td>\n",
       "      <td>0.403846</td>\n",
       "    </tr>\n",
       "    <tr>\n",
       "      <th>10</th>\n",
       "      <td>2000</td>\n",
       "      <td>0.422764</td>\n",
       "    </tr>\n",
       "    <tr>\n",
       "      <th>11</th>\n",
       "      <td>2010</td>\n",
       "      <td>0.314050</td>\n",
       "    </tr>\n",
       "    <tr>\n",
       "      <th>12</th>\n",
       "      <td>2020</td>\n",
       "      <td>0.360000</td>\n",
       "    </tr>\n",
       "  </tbody>\n",
       "</table>\n",
       "</div>"
      ],
      "text/plain": [
       "    decade  born_in_usa\n",
       "0     1900     0.017544\n",
       "1     1910     0.075000\n",
       "2     1920     0.074074\n",
       "3     1930     0.250000\n",
       "4     1940     0.302326\n",
       "5     1950     0.291667\n",
       "6     1960     0.265823\n",
       "7     1970     0.317308\n",
       "8     1980     0.319588\n",
       "9     1990     0.403846\n",
       "10    2000     0.422764\n",
       "11    2010     0.314050\n",
       "12    2020     0.360000"
      ]
     },
     "execution_count": 39,
     "metadata": {},
     "output_type": "execute_result"
    }
   ],
   "source": [
    "prop_usa_winners = nobel.groupby('decade', as_index=False)['born_in_usa'].mean()\n",
    "prop_usa_winners"
   ]
  },
  {
   "cell_type": "markdown",
   "id": "f8eb7e82-5ccf-4c47-8e7e-2743bc2312bb",
   "metadata": {
    "tags": []
   },
   "source": [
    "**code above means it will groupby decade, appearing as the left column, follow by born in usa(calculated mean)**"
   ]
  },
  {
   "cell_type": "code",
   "execution_count": 48,
   "id": "9e0d8e12-c5f3-4bca-b764-0f1f2ce292ca",
   "metadata": {
    "tags": []
   },
   "outputs": [
    {
     "data": {
      "text/plain": [
       "2000"
      ]
     },
     "execution_count": 48,
     "metadata": {},
     "output_type": "execute_result"
    }
   ],
   "source": [
    "# Identify the decade with the highest proportion of US-born winners\n",
    "max_decade_usa = prop_usa_winners[prop_usa_winners[\"born_in_usa\"] == prop_usa_winners['born_in_usa'].max()][\"decade\"].values[0]\n",
    "max_decade_usa"
   ]
  },
  {
   "cell_type": "code",
   "execution_count": 126,
   "id": "932ec40c-bc8b-4ccf-96c8-6cf5506a91b9",
   "metadata": {
    "tags": []
   },
   "outputs": [
    {
     "data": {
      "image/png": "[encoded data removed]",
      "text/plain": [
       "<Figure size 500x500 with 1 Axes>"
      ]
     },
     "metadata": {},
     "output_type": "display_data"
    }
   ],
   "source": [
    "#Plotting born in usa winners\n",
    "\n",
    "sns.relplot(data=prop_usa_winners,x=\"decade\",y=\"born_in_usa\",kind=\"line\"); #it can be scatter but hard to read so use line instead"
   ]
  },
  {
   "cell_type": "markdown",
   "id": "b594d91d-5d3f-463f-88d5-a5d4af30ffe6",
   "metadata": {},
   "source": [
    "### Part C"
   ]
  },
  {
   "cell_type": "markdown",
   "id": "57161065-779f-4514-a593-f9949ebca8ea",
   "metadata": {
    "tags": []
   },
   "source": [
    "Which decade and Nobel Prize category combination had the highest proportion of female laureates?\n",
    "\n",
    "- Store this as a dictionary called `max_female_dict` where the decade is the key and the category is the value. There should only be one key:value pair."
   ]
  },
  {
   "cell_type": "code",
   "execution_count": 64,
   "id": "b5582e35-9d4a-46ee-a3e0-acaf581b7d0e",
   "metadata": {
    "tags": []
   },
   "outputs": [],
   "source": [
    "#creating new column nobel_f_w\n",
    "nobel[\"nobel_f_w\"] = nobel[\"sex\"] == \"Female\""
   ]
  },
  {
   "cell_type": "code",
   "execution_count": 76,
   "id": "daaaaadc-1eb9-40b6-b24d-59efc67c1512",
   "metadata": {
    "tags": []
   },
   "outputs": [
    {
     "data": {
      "text/html": [
       "<div>\n",
       "<style scoped>\n",
       "    .dataframe tbody tr th:only-of-type {\n",
       "        vertical-align: middle;\n",
       "    }\n",
       "\n",
       "    .dataframe tbody tr th {\n",
       "        vertical-align: top;\n",
       "    }\n",
       "\n",
       "    .dataframe thead th {\n",
       "        text-align: right;\n",
       "    }\n",
       "</style>\n",
       "<table border=\"1\" class=\"dataframe\">\n",
       "  <thead>\n",
       "    <tr style=\"text-align: right;\">\n",
       "      <th></th>\n",
       "      <th>decade</th>\n",
       "      <th>category</th>\n",
       "      <th>nobel_f_w</th>\n",
       "    </tr>\n",
       "  </thead>\n",
       "  <tbody>\n",
       "    <tr>\n",
       "      <th>0</th>\n",
       "      <td>1900</td>\n",
       "      <td>Chemistry</td>\n",
       "      <td>0.000000</td>\n",
       "    </tr>\n",
       "    <tr>\n",
       "      <th>1</th>\n",
       "      <td>1900</td>\n",
       "      <td>Literature</td>\n",
       "      <td>0.100000</td>\n",
       "    </tr>\n",
       "    <tr>\n",
       "      <th>2</th>\n",
       "      <td>1900</td>\n",
       "      <td>Medicine</td>\n",
       "      <td>0.000000</td>\n",
       "    </tr>\n",
       "    <tr>\n",
       "      <th>3</th>\n",
       "      <td>1900</td>\n",
       "      <td>Peace</td>\n",
       "      <td>0.071429</td>\n",
       "    </tr>\n",
       "    <tr>\n",
       "      <th>4</th>\n",
       "      <td>1900</td>\n",
       "      <td>Physics</td>\n",
       "      <td>0.076923</td>\n",
       "    </tr>\n",
       "    <tr>\n",
       "      <th>...</th>\n",
       "      <td>...</td>\n",
       "      <td>...</td>\n",
       "      <td>...</td>\n",
       "    </tr>\n",
       "    <tr>\n",
       "      <th>67</th>\n",
       "      <td>2020</td>\n",
       "      <td>Economics</td>\n",
       "      <td>0.111111</td>\n",
       "    </tr>\n",
       "    <tr>\n",
       "      <th>68</th>\n",
       "      <td>2020</td>\n",
       "      <td>Literature</td>\n",
       "      <td>0.500000</td>\n",
       "    </tr>\n",
       "    <tr>\n",
       "      <th>69</th>\n",
       "      <td>2020</td>\n",
       "      <td>Medicine</td>\n",
       "      <td>0.125000</td>\n",
       "    </tr>\n",
       "    <tr>\n",
       "      <th>70</th>\n",
       "      <td>2020</td>\n",
       "      <td>Peace</td>\n",
       "      <td>0.285714</td>\n",
       "    </tr>\n",
       "    <tr>\n",
       "      <th>71</th>\n",
       "      <td>2020</td>\n",
       "      <td>Physics</td>\n",
       "      <td>0.166667</td>\n",
       "    </tr>\n",
       "  </tbody>\n",
       "</table>\n",
       "<p>72 rows × 3 columns</p>\n",
       "</div>"
      ],
      "text/plain": [
       "    decade    category  nobel_f_w\n",
       "0     1900   Chemistry   0.000000\n",
       "1     1900  Literature   0.100000\n",
       "2     1900    Medicine   0.000000\n",
       "3     1900       Peace   0.071429\n",
       "4     1900     Physics   0.076923\n",
       "..     ...         ...        ...\n",
       "67    2020   Economics   0.111111\n",
       "68    2020  Literature   0.500000\n",
       "69    2020    Medicine   0.125000\n",
       "70    2020       Peace   0.285714\n",
       "71    2020     Physics   0.166667\n",
       "\n",
       "[72 rows x 3 columns]"
      ]
     },
     "execution_count": 76,
     "metadata": {},
     "output_type": "execute_result"
    }
   ],
   "source": [
    "prop_f_winners = nobel.groupby(['decade',\"category\"], as_index=False)['nobel_f_w'].mean()\n",
    "prop_f_winners"
   ]
  },
  {
   "cell_type": "code",
   "execution_count": 84,
   "id": "6846626b-4c59-47db-a9b5-f528695bee06",
   "metadata": {
    "tags": []
   },
   "outputs": [
    {
     "data": {
      "text/html": [
       "<div>\n",
       "<style scoped>\n",
       "    .dataframe tbody tr th:only-of-type {\n",
       "        vertical-align: middle;\n",
       "    }\n",
       "\n",
       "    .dataframe tbody tr th {\n",
       "        vertical-align: top;\n",
       "    }\n",
       "\n",
       "    .dataframe thead th {\n",
       "        text-align: right;\n",
       "    }\n",
       "</style>\n",
       "<table border=\"1\" class=\"dataframe\">\n",
       "  <thead>\n",
       "    <tr style=\"text-align: right;\">\n",
       "      <th></th>\n",
       "      <th>decade</th>\n",
       "      <th>category</th>\n",
       "    </tr>\n",
       "  </thead>\n",
       "  <tbody>\n",
       "    <tr>\n",
       "      <th>68</th>\n",
       "      <td>2020</td>\n",
       "      <td>Literature</td>\n",
       "    </tr>\n",
       "  </tbody>\n",
       "</table>\n",
       "</div>"
      ],
      "text/plain": [
       "    decade    category\n",
       "68    2020  Literature"
      ]
     },
     "execution_count": 84,
     "metadata": {},
     "output_type": "execute_result"
    }
   ],
   "source": [
    "# Find the decade and category with the highest proportion of female laureates\n",
    "max_female_decade_category = prop_f_winners[prop_f_winners['nobel_f_w'] == prop_f_winners['nobel_f_w'].max()][['decade', 'category']]\n",
    "max_female_decade_category"
   ]
  },
  {
   "cell_type": "markdown",
   "id": "be632466-c3e8-4586-9e3b-579c892a26bf",
   "metadata": {},
   "source": [
    "##### <span style=\"color:blue;\"> Testing start</span>"
   ]
  },
  {
   "cell_type": "markdown",
   "id": "0b90c766-6257-415e-b7cd-b5d0bc7f4b3b",
   "metadata": {
    "tags": []
   },
   "source": [
    "**extracting 1 value from a specifc column in a df**"
   ]
  },
  {
   "cell_type": "code",
   "execution_count": 124,
   "id": "1ac2c35e-1188-4d71-a8b7-2386388d2f06",
   "metadata": {
    "tags": []
   },
   "outputs": [
    {
     "data": {
      "text/plain": [
       "'Medicine'"
      ]
     },
     "execution_count": 124,
     "metadata": {},
     "output_type": "execute_result"
    }
   ],
   "source": [
    "prop_f_winners[\"category\"].values[2]"
   ]
  },
  {
   "cell_type": "code",
   "execution_count": 120,
   "id": "7e25c464-d695-4e7e-9a42-7467f4ae34b2",
   "metadata": {
    "tags": []
   },
   "outputs": [
    {
     "data": {
      "text/plain": [
       "2020"
      ]
     },
     "execution_count": 120,
     "metadata": {},
     "output_type": "execute_result"
    }
   ],
   "source": [
    "#to extract the values from 0\n",
    "max_female_decade_category[\"decade\"].values[0]"
   ]
  },
  {
   "cell_type": "code",
   "execution_count": 122,
   "id": "ab61ad9e-a4bb-4471-aa9f-2179a5d98cf9",
   "metadata": {
    "tags": []
   },
   "outputs": [
    {
     "data": {
      "text/plain": [
       "'Literature'"
      ]
     },
     "execution_count": 122,
     "metadata": {},
     "output_type": "execute_result"
    }
   ],
   "source": [
    "max_female_decade_category[\"category\"].values[0]"
   ]
  },
  {
   "cell_type": "markdown",
   "id": "62237a6c-47d7-47b5-81cb-8aa17a101a6d",
   "metadata": {},
   "source": [
    "##### <span style=\"color:blue;\"> Testing end</span>"
   ]
  },
  {
   "cell_type": "code",
   "execution_count": 108,
   "id": "4e118037-a10a-4464-beb7-484e1557e447",
   "metadata": {
    "tags": []
   },
   "outputs": [
    {
     "data": {
      "text/plain": [
       "{2020: 'Literature'}"
      ]
     },
     "execution_count": 108,
     "metadata": {},
     "output_type": "execute_result"
    }
   ],
   "source": [
    "# Create a dictionary with the decade and category pair\n",
    "max_female_dict = {max_female_decade_category[\"decade\"].values[0]:max_female_decade_category[\"category\"].values[0]}\n",
    "max_female_dict"
   ]
  },
  {
   "cell_type": "code",
   "execution_count": 132,
   "id": "08d01deb-e43b-4db6-a94c-f374b570c473",
   "metadata": {
    "tags": []
   },
   "outputs": [
    {
     "data": {
      "image/png": "[encoded data removed]",
      "text/plain": [
       "<Figure size 624.25x500 with 1 Axes>"
      ]
     },
     "metadata": {},
     "output_type": "display_data"
    }
   ],
   "source": [
    "#Plotting female winners with % winners on the y-axis\n",
    "\n",
    "sns.relplot(data=prop_f_winners,x=\"decade\",y=\"nobel_f_w\",kind=\"line\",hue='category');"
   ]
  },
  {
   "cell_type": "markdown",
   "id": "ebae41f6-df29-4a07-a359-eb1c1c88b59a",
   "metadata": {},
   "source": [
    "### Part D"
   ]
  },
  {
   "cell_type": "markdown",
   "id": "42c31ac2-747a-4d5b-b7c2-51a1a92b4824",
   "metadata": {},
   "source": [
    "Who was the first woman to receive a Nobel Prize, and in what category?\n",
    "\n",
    "- Save your string answers as `first_woman_name` and `first_woman_category`."
   ]
  },
  {
   "cell_type": "code",
   "execution_count": 162,
   "id": "683f09d6-2333-4d52-ab7a-5f76f0e483d6",
   "metadata": {
    "tags": []
   },
   "outputs": [
    {
     "data": {
      "text/html": [
       "<div>\n",
       "<style scoped>\n",
       "    .dataframe tbody tr th:only-of-type {\n",
       "        vertical-align: middle;\n",
       "    }\n",
       "\n",
       "    .dataframe tbody tr th {\n",
       "        vertical-align: top;\n",
       "    }\n",
       "\n",
       "    .dataframe thead th {\n",
       "        text-align: right;\n",
       "    }\n",
       "</style>\n",
       "<table border=\"1\" class=\"dataframe\">\n",
       "  <thead>\n",
       "    <tr style=\"text-align: right;\">\n",
       "      <th></th>\n",
       "      <th>year</th>\n",
       "      <th>category</th>\n",
       "      <th>prize</th>\n",
       "      <th>motivation</th>\n",
       "      <th>prize_share</th>\n",
       "      <th>laureate_id</th>\n",
       "      <th>laureate_type</th>\n",
       "      <th>full_name</th>\n",
       "      <th>birth_date</th>\n",
       "      <th>birth_city</th>\n",
       "      <th>...</th>\n",
       "      <th>sex</th>\n",
       "      <th>organization_name</th>\n",
       "      <th>organization_city</th>\n",
       "      <th>organization_country</th>\n",
       "      <th>death_date</th>\n",
       "      <th>death_city</th>\n",
       "      <th>death_country</th>\n",
       "      <th>born_in_usa</th>\n",
       "      <th>decade</th>\n",
       "      <th>nobel_f_w</th>\n",
       "    </tr>\n",
       "  </thead>\n",
       "  <tbody>\n",
       "    <tr>\n",
       "      <th>19</th>\n",
       "      <td>1903</td>\n",
       "      <td>Physics</td>\n",
       "      <td>The Nobel Prize in Physics 1903</td>\n",
       "      <td>\"in recognition of the extraordinary services ...</td>\n",
       "      <td>1/4</td>\n",
       "      <td>6</td>\n",
       "      <td>Individual</td>\n",
       "      <td>Marie Curie, née Sklodowska</td>\n",
       "      <td>1867-11-07</td>\n",
       "      <td>Warsaw</td>\n",
       "      <td>...</td>\n",
       "      <td>Female</td>\n",
       "      <td>NaN</td>\n",
       "      <td>NaN</td>\n",
       "      <td>NaN</td>\n",
       "      <td>1934-07-04</td>\n",
       "      <td>Sallanches</td>\n",
       "      <td>France</td>\n",
       "      <td>False</td>\n",
       "      <td>1900</td>\n",
       "      <td>True</td>\n",
       "    </tr>\n",
       "    <tr>\n",
       "      <th>29</th>\n",
       "      <td>1905</td>\n",
       "      <td>Peace</td>\n",
       "      <td>The Nobel Peace Prize 1905</td>\n",
       "      <td>NaN</td>\n",
       "      <td>1/1</td>\n",
       "      <td>468</td>\n",
       "      <td>Individual</td>\n",
       "      <td>Baroness Bertha Sophie Felicita von Suttner, n...</td>\n",
       "      <td>1843-06-09</td>\n",
       "      <td>Prague</td>\n",
       "      <td>...</td>\n",
       "      <td>Female</td>\n",
       "      <td>NaN</td>\n",
       "      <td>NaN</td>\n",
       "      <td>NaN</td>\n",
       "      <td>1914-06-21</td>\n",
       "      <td>Vienna</td>\n",
       "      <td>Austria</td>\n",
       "      <td>False</td>\n",
       "      <td>1900</td>\n",
       "      <td>True</td>\n",
       "    </tr>\n",
       "  </tbody>\n",
       "</table>\n",
       "<p>2 rows × 21 columns</p>\n",
       "</div>"
      ],
      "text/plain": [
       "    year category                            prize  \\\n",
       "19  1903  Physics  The Nobel Prize in Physics 1903   \n",
       "29  1905    Peace       The Nobel Peace Prize 1905   \n",
       "\n",
       "                                           motivation prize_share  \\\n",
       "19  \"in recognition of the extraordinary services ...         1/4   \n",
       "29                                                NaN         1/1   \n",
       "\n",
       "    laureate_id laureate_type  \\\n",
       "19            6    Individual   \n",
       "29          468    Individual   \n",
       "\n",
       "                                            full_name  birth_date birth_city  \\\n",
       "19                        Marie Curie, née Sklodowska  1867-11-07     Warsaw   \n",
       "29  Baroness Bertha Sophie Felicita von Suttner, n...  1843-06-09     Prague   \n",
       "\n",
       "    ...     sex organization_name organization_city organization_country  \\\n",
       "19  ...  Female               NaN               NaN                  NaN   \n",
       "29  ...  Female               NaN               NaN                  NaN   \n",
       "\n",
       "    death_date  death_city death_country born_in_usa  decade  nobel_f_w  \n",
       "19  1934-07-04  Sallanches        France       False    1900       True  \n",
       "29  1914-06-21      Vienna       Austria       False    1900       True  \n",
       "\n",
       "[2 rows x 21 columns]"
      ]
     },
     "execution_count": 162,
     "metadata": {},
     "output_type": "execute_result"
    }
   ],
   "source": [
    "#a df consists of only female winners\n",
    "a= nobel[nobel[\"nobel_f_w\"]]\n",
    "a.head(2)"
   ]
  },
  {
   "cell_type": "code",
   "execution_count": 180,
   "id": "5f50ba86-eebe-4751-9889-bd1de8c32cc1",
   "metadata": {
    "tags": []
   },
   "outputs": [
    {
     "data": {
      "text/html": [
       "<div>\n",
       "<style scoped>\n",
       "    .dataframe tbody tr th:only-of-type {\n",
       "        vertical-align: middle;\n",
       "    }\n",
       "\n",
       "    .dataframe tbody tr th {\n",
       "        vertical-align: top;\n",
       "    }\n",
       "\n",
       "    .dataframe thead th {\n",
       "        text-align: right;\n",
       "    }\n",
       "</style>\n",
       "<table border=\"1\" class=\"dataframe\">\n",
       "  <thead>\n",
       "    <tr style=\"text-align: right;\">\n",
       "      <th></th>\n",
       "      <th>year</th>\n",
       "      <th>full_name</th>\n",
       "      <th>category</th>\n",
       "    </tr>\n",
       "  </thead>\n",
       "  <tbody>\n",
       "    <tr>\n",
       "      <th>19</th>\n",
       "      <td>1903</td>\n",
       "      <td>Marie Curie, née Sklodowska</td>\n",
       "      <td>Physics</td>\n",
       "    </tr>\n",
       "    <tr>\n",
       "      <th>29</th>\n",
       "      <td>1905</td>\n",
       "      <td>Baroness Bertha Sophie Felicita von Suttner, n...</td>\n",
       "      <td>Peace</td>\n",
       "    </tr>\n",
       "    <tr>\n",
       "      <th>51</th>\n",
       "      <td>1909</td>\n",
       "      <td>Selma Ottilia Lovisa Lagerlöf</td>\n",
       "      <td>Literature</td>\n",
       "    </tr>\n",
       "    <tr>\n",
       "      <th>62</th>\n",
       "      <td>1911</td>\n",
       "      <td>Marie Curie, née Sklodowska</td>\n",
       "      <td>Chemistry</td>\n",
       "    </tr>\n",
       "    <tr>\n",
       "      <th>128</th>\n",
       "      <td>1926</td>\n",
       "      <td>Grazia Deledda</td>\n",
       "      <td>Literature</td>\n",
       "    </tr>\n",
       "    <tr>\n",
       "      <th>...</th>\n",
       "      <td>...</td>\n",
       "      <td>...</td>\n",
       "      <td>...</td>\n",
       "    </tr>\n",
       "    <tr>\n",
       "      <th>982</th>\n",
       "      <td>2022</td>\n",
       "      <td>Annie Ernaux</td>\n",
       "      <td>Literature</td>\n",
       "    </tr>\n",
       "    <tr>\n",
       "      <th>993</th>\n",
       "      <td>2023</td>\n",
       "      <td>Anne L’Huillier</td>\n",
       "      <td>Physics</td>\n",
       "    </tr>\n",
       "    <tr>\n",
       "      <th>998</th>\n",
       "      <td>2023</td>\n",
       "      <td>Narges Mohammadi</td>\n",
       "      <td>Peace</td>\n",
       "    </tr>\n",
       "    <tr>\n",
       "      <th>989</th>\n",
       "      <td>2023</td>\n",
       "      <td>Katalin Karikó</td>\n",
       "      <td>Medicine</td>\n",
       "    </tr>\n",
       "    <tr>\n",
       "      <th>999</th>\n",
       "      <td>2023</td>\n",
       "      <td>Claudia Goldin</td>\n",
       "      <td>Economics</td>\n",
       "    </tr>\n",
       "  </tbody>\n",
       "</table>\n",
       "<p>65 rows × 3 columns</p>\n",
       "</div>"
      ],
      "text/plain": [
       "     year                                          full_name    category\n",
       "19   1903                        Marie Curie, née Sklodowska     Physics\n",
       "29   1905  Baroness Bertha Sophie Felicita von Suttner, n...       Peace\n",
       "51   1909                      Selma Ottilia Lovisa Lagerlöf  Literature\n",
       "62   1911                        Marie Curie, née Sklodowska   Chemistry\n",
       "128  1926                                     Grazia Deledda  Literature\n",
       "..    ...                                                ...         ...\n",
       "982  2022                                       Annie Ernaux  Literature\n",
       "993  2023                                    Anne L’Huillier     Physics\n",
       "998  2023                                   Narges Mohammadi       Peace\n",
       "989  2023                                     Katalin Karikó    Medicine\n",
       "999  2023                                     Claudia Goldin   Economics\n",
       "\n",
       "[65 rows x 3 columns]"
      ]
     },
     "execution_count": 180,
     "metadata": {},
     "output_type": "execute_result"
    }
   ],
   "source": [
    "min_year = a[[\"year\",\"full_name\",\"category\"]].sort_values(by=\"year\",ascending=True)\n",
    "min_year"
   ]
  },
  {
   "cell_type": "code",
   "execution_count": 184,
   "id": "a57f33fb-2ba6-47e3-b260-1a651116c7fd",
   "metadata": {
    "tags": []
   },
   "outputs": [
    {
     "data": {
      "text/plain": [
       "'Marie Curie, née Sklodowska'"
      ]
     },
     "execution_count": 184,
     "metadata": {},
     "output_type": "execute_result"
    }
   ],
   "source": [
    "first_woman_name = min_year[\"full_name\"].values[0]\n",
    "first_woman_name"
   ]
  },
  {
   "cell_type": "code",
   "execution_count": 188,
   "id": "4022ff48-7590-4df7-8730-e7a926927bdf",
   "metadata": {
    "tags": []
   },
   "outputs": [
    {
     "data": {
      "text/plain": [
       "'Physics'"
      ]
     },
     "execution_count": 188,
     "metadata": {},
     "output_type": "execute_result"
    }
   ],
   "source": [
    "first_woman_category = min_year[\"category\"].values[0]\n",
    "first_woman_category"
   ]
  },
  {
   "cell_type": "code",
   "execution_count": 190,
   "id": "cd882411-2197-4928-85d3-fd344da610c3",
   "metadata": {
    "tags": []
   },
   "outputs": [
    {
     "name": "stdout",
     "output_type": "stream",
     "text": [
      "\n",
      " The first woman to win a Nobel Prize was Marie Curie, née Sklodowska, in the category of Physics.\n"
     ]
    }
   ],
   "source": [
    "print(f\"\\n The first woman to win a Nobel Prize was {first_woman_name}, in the category of {first_woman_category}.\")"
   ]
  },
  {
   "cell_type": "markdown",
   "id": "d49332b6-1a86-47d1-bbdc-098e36ba85da",
   "metadata": {},
   "source": [
    "### Part E"
   ]
  },
  {
   "cell_type": "markdown",
   "id": "0dfebe3e-0130-4c39-9b85-9c1df69d9c81",
   "metadata": {},
   "source": [
    "Which individuals or organizations have won more than one Nobel Prize throughout the years?\n",
    "\n",
    "- Store the full names in a list named `repeat_list`."
   ]
  },
  {
   "cell_type": "code",
   "execution_count": 202,
   "id": "4f1151e0-a46e-401f-bc94-105836880c9a",
   "metadata": {
    "tags": []
   },
   "outputs": [],
   "source": [
    "#counting names that has more than 1 nobel prize\n",
    "count_names = nobel[\"full_name\"].value_counts()"
   ]
  },
  {
   "cell_type": "code",
   "execution_count": 214,
   "id": "2efaa707-afd5-41e5-903f-ae04e588ff3c",
   "metadata": {
    "tags": []
   },
   "outputs": [
    {
     "data": {
      "text/plain": [
       "full_name\n",
       "Comité international de la Croix Rouge (International Committee of the Red Cross)    3\n",
       "Linus Carl Pauling                                                                   2\n",
       "John Bardeen                                                                         2\n",
       "Frederick Sanger                                                                     2\n",
       "Marie Curie, née Sklodowska                                                          2\n",
       "Office of the United Nations High Commissioner for Refugees (UNHCR)                  2\n",
       "Name: count, dtype: int64"
      ]
     },
     "execution_count": 214,
     "metadata": {},
     "output_type": "execute_result"
    }
   ],
   "source": [
    "#sorting for wins wich are 2-3 nobel prize\n",
    "repeats = count_names[count_names >=2]\n",
    "repeats"
   ]
  },
  {
   "cell_type": "markdown",
   "id": "51b26f94-a84a-4c7e-9d94-d3bf1b20b977",
   "metadata": {},
   "source": [
    "##### <span style=\"color:blue;\"> Testing start</span>"
   ]
  },
  {
   "cell_type": "code",
   "execution_count": 228,
   "id": "ac7f117c-e43c-4d23-9ff4-0c7f4515303f",
   "metadata": {
    "tags": []
   },
   "outputs": [
    {
     "data": {
      "text/plain": [
       "Index(['Comité international de la Croix Rouge (International Committee of the Red Cross)',\n",
       "       'Linus Carl Pauling', 'John Bardeen', 'Frederick Sanger',\n",
       "       'Marie Curie, née Sklodowska',\n",
       "       'Office of the United Nations High Commissioner for Refugees (UNHCR)'],\n",
       "      dtype='object', name='full_name')"
      ]
     },
     "execution_count": 228,
     "metadata": {},
     "output_type": "execute_result"
    }
   ],
   "source": [
    "repeats.index"
   ]
  },
  {
   "cell_type": "markdown",
   "id": "b7d9ad3d-fcb9-4ca5-8cd4-208e76d53466",
   "metadata": {},
   "source": [
    "##### <span style=\"color:blue;\"> Testing end</span>"
   ]
  },
  {
   "cell_type": "code",
   "execution_count": 230,
   "id": "4e850c08-37c2-4457-a4c3-b1c360a2fd14",
   "metadata": {
    "tags": []
   },
   "outputs": [
    {
     "data": {
      "text/plain": [
       "['Comité international de la Croix Rouge (International Committee of the Red Cross)',\n",
       " 'Linus Carl Pauling',\n",
       " 'John Bardeen',\n",
       " 'Frederick Sanger',\n",
       " 'Marie Curie, née Sklodowska',\n",
       " 'Office of the United Nations High Commissioner for Refugees (UNHCR)']"
      ]
     },
     "execution_count": 230,
     "metadata": {},
     "output_type": "execute_result"
    }
   ],
   "source": [
    "#listing the index in a list\n",
    "repeated_name = list(repeats.index)\n",
    "repeated_name"
   ]
  },
  {
   "cell_type": "code",
   "execution_count": 236,
   "id": "3cc2bb7c-d1bb-4b7a-a4f9-9427c1e1775d",
   "metadata": {
    "tags": []
   },
   "outputs": [
    {
     "name": "stdout",
     "output_type": "stream",
     "text": [
      "\n",
      " The repeat winners are : ['Comité international de la Croix Rouge (International Committee of the Red Cross)', 'Linus Carl Pauling', 'John Bardeen', 'Frederick Sanger', 'Marie Curie, née Sklodowska', 'Office of the United Nations High Commissioner for Refugees (UNHCR)']\n"
     ]
    }
   ],
   "source": [
    "print(\"\\n The repeat winners are :\", repeated_name)"
   ]
  },
  {
   "cell_type": "code",
   "execution_count": null,
   "id": "69b9d7a3-8504-4b07-837f-5d54eb231e6d",
   "metadata": {},
   "outputs": [],
   "source": []
  },
  {
   "cell_type": "markdown",
   "id": "c5dc4a29-6add-4b88-8acd-50da82f600a6",
   "metadata": {},
   "source": [
    "## <span style=\"color:red;\"> DataCamp solution</span>"
   ]
  },
  {
   "cell_type": "code",
   "execution_count": null,
   "id": "9d158454-4e2b-4528-b9de-b9946fb5d184",
   "metadata": {},
   "outputs": [],
   "source": [
    "# Store and display the most commonly awarded gender and birth country in requested variables\n",
    "top_gender = nobel['sex'].value_counts().index[0]\n",
    "top_country = nobel['birth_country'].value_counts().index[0]\n",
    "\n",
    "print(\"\\n The gender with the most Nobel laureates is :\", top_gender)\n",
    "print(\" The most common birth country of Nobel laureates is :\", top_country)\n",
    "\n",
    "# Calculate the proportion of USA born winners per decade\n",
    "nobel['usa_born_winner'] = nobel['birth_country'] == 'United States of America'\n",
    "nobel['decade'] = (np.floor(nobel['year'] / 10) * 10).astype(int)\n",
    "prop_usa_winners = nobel.groupby('decade', as_index=False)['usa_born_winner'].mean()\n",
    "\n",
    "# Identify the decade with the highest proportion of US-born winners\n",
    "max_decade_usa = prop_usa_winners[prop_usa_winners['usa_born_winner'] == prop_usa_winners['usa_born_winner'].max()]['decade'].values[0]\n",
    "\n",
    "# Optional: Plotting USA born winners\n",
    "ax1 = sns.relplot(x='decade', y='usa_born_winner', data=prop_usa_winners, kind=\"line\")\n",
    "\n",
    "# Calculating the proportion of female laureates per decade\n",
    "nobel['female_winner'] = nobel['sex'] == 'Female'\n",
    "prop_female_winners = nobel.groupby(['decade', 'category'], as_index=False)['female_winner'].mean()\n",
    "\n",
    "# Find the decade and category with the highest proportion of female laureates\n",
    "max_female_decade_category = prop_female_winners[prop_female_winners['female_winner'] == prop_female_winners['female_winner'].max()][['decade', 'category']]\n",
    "\n",
    "# Create a dictionary with the decade and category pair\n",
    "max_female_dict = {max_female_decade_category['decade'].values[0]: max_female_decade_category['category'].values[0]}\n",
    "\n",
    "# Optional: Plotting female winners with % winners on the y-axis\n",
    "ax2 = sns.relplot(x='decade', y='female_winner', hue='category', data=prop_female_winners, kind=\"line\")\n",
    "\n",
    "# Finding the first woman to win a Nobel Prize\n",
    "nobel_women = nobel[nobel['female_winner']]\n",
    "min_row = nobel_women[nobel_women['year'] == nobel_women['year'].min()]\n",
    "first_woman_name = min_row['full_name'].values[0]\n",
    "first_woman_category = min_row['category'].values[0]\n",
    "print(f\"\\n The first woman to win a Nobel Prize was {first_woman_name}, in the category of {first_woman_category}.\")\n",
    "\n",
    "# Selecting the laureates that have received 2 or more prizes\n",
    "counts = nobel['full_name'].value_counts()\n",
    "repeats = counts[counts >= 2].index\n",
    "repeat_list = list(repeats)\n",
    "\n",
    "print(\"\\n The repeat winners are :\", repeat_list)"
   ]
  }
 ],
 "metadata": {
  "colab": {
   "name": "Welcome to DataCamp Workspaces.ipynb",
   "provenance": []
  },
  "kernelspec": {
   "display_name": "Python 3 (ipykernel)",
   "language": "python",
   "name": "python3"
  },
  "language_info": {
   "codemirror_mode": {
    "name": "ipython",
    "version": 3
   },
   "file_extension": ".py",
   "mimetype": "text/x-python",
   "name": "python",
   "nbconvert_exporter": "python",
   "pygments_lexer": "ipython3",
   "version": "3.11.9"
  }
 },
 "nbformat": 4,
 "nbformat_minor": 5
}
