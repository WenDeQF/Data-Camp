{
 "cells": [
  {
   "cell_type": "markdown",
   "id": "c85a38e6-09da-4dd7-b81e-5cad6dfaa1c5",
   "metadata": {},
   "source": [
    "# Data Analyst with Python Project\n",
    "\n",
    "# Analyzing Crime in Los Angeles"
   ]
  },
  {
   "cell_type": "markdown",
   "id": "c815a76f-6bdd-4e64-8058-5a11b53d2341",
   "metadata": {},
   "source": [
    "## <span style=\"color:red;\"> Project Instructions</span>\n",
    "\n",
    "Explore the `crimes.csv` dataset and use your findings to answer the following questions:\n",
    "\n",
    "- Which hour has the highest frequency of crimes? Store as an integer variable called `peak_crime_hour`.\n",
    "\n",
    "- Which area has the largest frequency of night crimes (crimes committed between 10pm and 3:59am)? Save as a string variable called `peak_night_crime_location`.\n",
    "\n",
    "- Identify the number of crimes committed against victims of different age groups. Save as a pandas Series called `victim_ages`, with age group labels `\"0-17\"`, `\"18-25\"`, `\"26-34`\", `\"35-44\"`, `\"45-54\"`, `\"55-64\"`, and `\"65+\"` as the index and the frequency of crimes as the values."
   ]
  },
  {
   "cell_type": "markdown",
   "id": "31616587-eb32-4b00-a59d-c56f093647ac",
   "metadata": {},
   "source": [
    "Los Angeles, California 😎. The City of Angels. Tinseltown. The Entertainment Capital of the World! \n",
    "\n",
    "Known for its warm weather, palm trees, sprawling coastline, and Hollywood, along with producing some of the most iconic films and songs. However, as with any highly populated city, it isn't always glamorous and there can be a large volume of crime. That's where you can help!\n",
    "\n",
    "You have been asked to support the Los Angeles Police Department (LAPD) by analyzing crime data to identify patterns in criminal behavior. They plan to use your insights to allocate resources effectively to tackle various crimes in different areas.\n",
    "\n",
    "## The Data\n",
    "\n",
    "They have provided you with a single dataset to use. A summary and preview are provided below.\n",
    "\n",
    "It is a modified version of the original data, which is publicly available from Los Angeles Open Data.\n",
    "\n",
    "# crimes.csv\n",
    "\n",
    "| Column     | Description              |\n",
    "|------------|--------------------------|\n",
    "| `'DR_NO'` | Division of Records Number: Official file number made up of a 2-digit year, area ID, and 5 digits. |\n",
    "| `'Date Rptd'` | Date reported - MM/DD/YYYY. |\n",
    "| `'DATE OCC'` | Date of occurrence - MM/DD/YYYY. |\n",
    "| `'TIME OCC'` | In 24-hour military time. |\n",
    "| `'AREA NAME'` | The 21 Geographic Areas or Patrol Divisions are also given a name designation that references a landmark or the surrounding community that it is responsible for. For example, the 77th Street Division is located at the intersection of South Broadway and 77th Street, serving neighborhoods in South Los Angeles. |\n",
    "| `'Crm Cd Desc'` | Indicates the crime committed. |\n",
    "| `'Vict Age'` | Victim's age in years. |\n",
    "| `'Vict Sex'` | Victim's sex: `F`: Female, `M`: Male, `X`: Unknown. |\n",
    "| `'Vict Descent'` | Victim's descent:<ul><li>`A` - Other Asian</li><li>`B` - Black</li><li>`C` - Chinese</li><li>`D` - Cambodian</li><li>`F` - Filipino</li><li>`G` - Guamanian</li><li>`H` - Hispanic/Latin/Mexican</li><li>`I` - American Indian/Alaskan Native</li><li>`J` - Japanese</li><li>`K` - Korean</li><li>`L` - Laotian</li><li>`O` - Other</li><li>`P` - Pacific Islander</li><li>`S` - Samoan</li><li>`U` - Hawaiian</li><li>`V` - Vietnamese</li><li>`W` - White</li><li>`X` - Unknown</li><li>`Z` - Asian Indian</li> |\n",
    "| `'Weapon Desc'` | Description of the weapon used (if applicable). |\n",
    "| `'Status Desc'` | Crime status. |\n",
    "| `'LOCATION'` | Street address of the crime. |"
   ]
  },
  {
   "cell_type": "markdown",
   "id": "d6be46dd-8749-4e46-a895-619de7aa1ff5",
   "metadata": {},
   "source": [
    "## pandas.read_csv\n",
    "\n",
    "- dtype : dtype or dict of {Hashabledtype}, optional\n",
    "\n",
    "Data type(s) to apply to either the whole dataset or individual columns. E.g., `{'a': np.float64, 'b': np.int32, 'c': 'Int64'}` Use `str` or `object` together with suitable `na_values` settings to preserve and not interpret `dtype`. If `converters` are specified, they will be applied INSTEAD of `dtype` conversion.\n",
    "\n",
    "- parse_dates : bool, list of Hashable, list of lists or dict of {Hashablelist}, default False\n",
    "The behavior is as follows:\n",
    "\n",
    "`bool`. If True -> try parsing the index. Note: Automatically set to `True` if `date_format` or `date_parser` arguments have been passed.\n",
    "\n",
    "`list` of `int` or names. e.g. If `[1, 2, 3]` -> try parsing columns 1, 2, 3 each as a separate date column.\n",
    "\n",
    "`list` of `list`. e.g. If `[[1, 3]]` -> combine columns 1 and 3 and parse as a single date column. Values are joined with a space before parsing.\n",
    "\n",
    "`dict`, e.g. `{'foo' : [1, 3]}` -> parse columns 1, 3 as date and call result ‘foo’. Values are joined with a space before parsing.\n",
    "\n",
    "If a column or index cannot be represented as an array of `datetime`, say because of an unparsable value or a mixture of timezones, the column or index will be returned unaltered as an object data type. For non-standard datetime parsing, use `to_datetime()` after `read_csv()`."
   ]
  },
  {
   "cell_type": "code",
   "execution_count": 299,
   "id": "7c6c3c36-5c8b-4cce-8681-95292b8f0861",
   "metadata": {
    "executionCancelledAt": null,
    "executionTime": 333,
    "lastExecutedAt": 1718270848272,
    "lastExecutedByKernel": "e15b778f-fef2-4c54-81b0-bbb79b433fd9",
    "lastScheduledRunId": null,
    "lastSuccessfullyExecutedCode": "# Re-run this cell\n# Import required libraries\nimport pandas as pd\nimport numpy as np\nimport matplotlib.pyplot as plt\nimport seaborn as sns\ncrimes = pd.read_csv(\"crimes.csv\", parse_dates=[\"Date Rptd\", \"DATE OCC\"], dtype={\"TIME OCC\": str})\ncrimes.head()",
    "outputsMetadata": {
     "0": {
      "height": 213,
      "type": "dataFrame"
     }
    },
    "tags": []
   },
   "outputs": [
    {
     "data": {
      "text/html": [
       "<div>\n",
       "<style scoped>\n",
       "    .dataframe tbody tr th:only-of-type {\n",
       "        vertical-align: middle;\n",
       "    }\n",
       "\n",
       "    .dataframe tbody tr th {\n",
       "        vertical-align: top;\n",
       "    }\n",
       "\n",
       "    .dataframe thead th {\n",
       "        text-align: right;\n",
       "    }\n",
       "</style>\n",
       "<table border=\"1\" class=\"dataframe\">\n",
       "  <thead>\n",
       "    <tr style=\"text-align: right;\">\n",
       "      <th></th>\n",
       "      <th>DR_NO</th>\n",
       "      <th>Date Rptd</th>\n",
       "      <th>DATE OCC</th>\n",
       "      <th>TIME OCC</th>\n",
       "      <th>AREA NAME</th>\n",
       "      <th>Crm Cd Desc</th>\n",
       "      <th>Vict Age</th>\n",
       "      <th>Vict Sex</th>\n",
       "      <th>Vict Descent</th>\n",
       "      <th>Weapon Desc</th>\n",
       "      <th>Status Desc</th>\n",
       "      <th>LOCATION</th>\n",
       "    </tr>\n",
       "  </thead>\n",
       "  <tbody>\n",
       "    <tr>\n",
       "      <th>0</th>\n",
       "      <td>220314085</td>\n",
       "      <td>2022-07-22</td>\n",
       "      <td>2020-05-12</td>\n",
       "      <td>1110</td>\n",
       "      <td>Southwest</td>\n",
       "      <td>THEFT OF IDENTITY</td>\n",
       "      <td>27</td>\n",
       "      <td>F</td>\n",
       "      <td>B</td>\n",
       "      <td>NaN</td>\n",
       "      <td>Invest Cont</td>\n",
       "      <td>2500 S  SYCAMORE                     AV</td>\n",
       "    </tr>\n",
       "    <tr>\n",
       "      <th>1</th>\n",
       "      <td>222013040</td>\n",
       "      <td>2022-08-06</td>\n",
       "      <td>2020-06-04</td>\n",
       "      <td>1620</td>\n",
       "      <td>Olympic</td>\n",
       "      <td>THEFT OF IDENTITY</td>\n",
       "      <td>60</td>\n",
       "      <td>M</td>\n",
       "      <td>H</td>\n",
       "      <td>NaN</td>\n",
       "      <td>Invest Cont</td>\n",
       "      <td>3300    SAN MARINO                   ST</td>\n",
       "    </tr>\n",
       "    <tr>\n",
       "      <th>2</th>\n",
       "      <td>220614831</td>\n",
       "      <td>2022-08-18</td>\n",
       "      <td>2020-08-17</td>\n",
       "      <td>1200</td>\n",
       "      <td>Hollywood</td>\n",
       "      <td>THEFT OF IDENTITY</td>\n",
       "      <td>28</td>\n",
       "      <td>M</td>\n",
       "      <td>H</td>\n",
       "      <td>NaN</td>\n",
       "      <td>Invest Cont</td>\n",
       "      <td>1900    TRANSIENT</td>\n",
       "    </tr>\n",
       "    <tr>\n",
       "      <th>3</th>\n",
       "      <td>231207725</td>\n",
       "      <td>2023-02-27</td>\n",
       "      <td>2020-01-27</td>\n",
       "      <td>0635</td>\n",
       "      <td>77th Street</td>\n",
       "      <td>THEFT OF IDENTITY</td>\n",
       "      <td>37</td>\n",
       "      <td>M</td>\n",
       "      <td>H</td>\n",
       "      <td>NaN</td>\n",
       "      <td>Invest Cont</td>\n",
       "      <td>6200    4TH                          AV</td>\n",
       "    </tr>\n",
       "    <tr>\n",
       "      <th>4</th>\n",
       "      <td>220213256</td>\n",
       "      <td>2022-07-14</td>\n",
       "      <td>2020-07-14</td>\n",
       "      <td>0900</td>\n",
       "      <td>Rampart</td>\n",
       "      <td>THEFT OF IDENTITY</td>\n",
       "      <td>79</td>\n",
       "      <td>M</td>\n",
       "      <td>B</td>\n",
       "      <td>NaN</td>\n",
       "      <td>Invest Cont</td>\n",
       "      <td>1200 W  7TH                          ST</td>\n",
       "    </tr>\n",
       "  </tbody>\n",
       "</table>\n",
       "</div>"
      ],
      "text/plain": [
       "       DR_NO  Date Rptd   DATE OCC TIME OCC    AREA NAME        Crm Cd Desc  \\\n",
       "0  220314085 2022-07-22 2020-05-12     1110    Southwest  THEFT OF IDENTITY   \n",
       "1  222013040 2022-08-06 2020-06-04     1620      Olympic  THEFT OF IDENTITY   \n",
       "2  220614831 2022-08-18 2020-08-17     1200    Hollywood  THEFT OF IDENTITY   \n",
       "3  231207725 2023-02-27 2020-01-27     0635  77th Street  THEFT OF IDENTITY   \n",
       "4  220213256 2022-07-14 2020-07-14     0900      Rampart  THEFT OF IDENTITY   \n",
       "\n",
       "   Vict Age Vict Sex Vict Descent Weapon Desc  Status Desc  \\\n",
       "0        27        F            B         NaN  Invest Cont   \n",
       "1        60        M            H         NaN  Invest Cont   \n",
       "2        28        M            H         NaN  Invest Cont   \n",
       "3        37        M            H         NaN  Invest Cont   \n",
       "4        79        M            B         NaN  Invest Cont   \n",
       "\n",
       "                                  LOCATION  \n",
       "0  2500 S  SYCAMORE                     AV  \n",
       "1  3300    SAN MARINO                   ST  \n",
       "2                        1900    TRANSIENT  \n",
       "3  6200    4TH                          AV  \n",
       "4  1200 W  7TH                          ST  "
      ]
     },
     "execution_count": 299,
     "metadata": {},
     "output_type": "execute_result"
    }
   ],
   "source": [
    "# Re-run this cell\n",
    "# Import required libraries\n",
    "import pandas as pd\n",
    "import numpy as np\n",
    "import matplotlib.pyplot as plt\n",
    "import seaborn as sns\n",
    "crimes = pd.read_csv(r\"C:\\Users\\wende\\Desktop\\DataCamp\\Data Analyst with Python\\13 Analyzing Crime in Los Angeles\\workspace\\crimes.csv\", parse_dates=[\"Date Rptd\", \"DATE OCC\"], dtype={\"TIME OCC\": str})\n",
    "crimes.head()"
   ]
  },
  {
   "cell_type": "code",
   "execution_count": 301,
   "id": "ac7a52e7-5497-414d-ab59-eb07b74f36b9",
   "metadata": {
    "tags": []
   },
   "outputs": [],
   "source": [
    "# crimes.info()"
   ]
  },
  {
   "cell_type": "markdown",
   "id": "9998240f-15c8-4bfe-9cce-13179d1bcd50",
   "metadata": {},
   "source": [
    "### Part A\n",
    "\n",
    "- Which hour has the highest frequency of crimes? Store as an integer variable called `peak_crime_hour`."
   ]
  },
  {
   "cell_type": "code",
   "execution_count": 303,
   "id": "c6eaa103-c574-4641-b3d6-eed648b569df",
   "metadata": {
    "tags": []
   },
   "outputs": [
    {
     "name": "stdout",
     "output_type": "stream",
     "text": [
      "<class 'pandas.core.series.Series'>\n",
      "RangeIndex: 185715 entries, 0 to 185714\n",
      "Series name: hour\n",
      "Non-Null Count   Dtype\n",
      "--------------   -----\n",
      "185715 non-null  int32\n",
      "dtypes: int32(1)\n",
      "memory usage: 725.6 KB\n"
     ]
    }
   ],
   "source": [
    "#TIME OCC\n",
    "\n",
    "#retrieving the first 2 numbers as hours eg 1110 , 11 as hours\n",
    "#changing type from object to int\n",
    "crimes[\"hour\"] = crimes[\"TIME OCC\"].str[:2].astype(int)\n",
    "crimes[\"hour\"].info()"
   ]
  },
  {
   "cell_type": "code",
   "execution_count": 305,
   "id": "3916b064-dcf0-44a6-81ce-ccd006323b33",
   "metadata": {
    "tags": []
   },
   "outputs": [
    {
     "data": {
      "text/html": [
       "<div>\n",
       "<style scoped>\n",
       "    .dataframe tbody tr th:only-of-type {\n",
       "        vertical-align: middle;\n",
       "    }\n",
       "\n",
       "    .dataframe tbody tr th {\n",
       "        vertical-align: top;\n",
       "    }\n",
       "\n",
       "    .dataframe thead th {\n",
       "        text-align: right;\n",
       "    }\n",
       "</style>\n",
       "<table border=\"1\" class=\"dataframe\">\n",
       "  <thead>\n",
       "    <tr style=\"text-align: right;\">\n",
       "      <th></th>\n",
       "      <th>DR_NO</th>\n",
       "      <th>Date Rptd</th>\n",
       "      <th>DATE OCC</th>\n",
       "      <th>TIME OCC</th>\n",
       "      <th>AREA NAME</th>\n",
       "      <th>Crm Cd Desc</th>\n",
       "      <th>Vict Age</th>\n",
       "      <th>Vict Sex</th>\n",
       "      <th>Vict Descent</th>\n",
       "      <th>Weapon Desc</th>\n",
       "      <th>Status Desc</th>\n",
       "      <th>LOCATION</th>\n",
       "      <th>hour</th>\n",
       "    </tr>\n",
       "  </thead>\n",
       "  <tbody>\n",
       "    <tr>\n",
       "      <th>0</th>\n",
       "      <td>220314085</td>\n",
       "      <td>2022-07-22</td>\n",
       "      <td>2020-05-12</td>\n",
       "      <td>1110</td>\n",
       "      <td>Southwest</td>\n",
       "      <td>THEFT OF IDENTITY</td>\n",
       "      <td>27</td>\n",
       "      <td>F</td>\n",
       "      <td>B</td>\n",
       "      <td>NaN</td>\n",
       "      <td>Invest Cont</td>\n",
       "      <td>2500 S  SYCAMORE                     AV</td>\n",
       "      <td>11</td>\n",
       "    </tr>\n",
       "    <tr>\n",
       "      <th>1</th>\n",
       "      <td>222013040</td>\n",
       "      <td>2022-08-06</td>\n",
       "      <td>2020-06-04</td>\n",
       "      <td>1620</td>\n",
       "      <td>Olympic</td>\n",
       "      <td>THEFT OF IDENTITY</td>\n",
       "      <td>60</td>\n",
       "      <td>M</td>\n",
       "      <td>H</td>\n",
       "      <td>NaN</td>\n",
       "      <td>Invest Cont</td>\n",
       "      <td>3300    SAN MARINO                   ST</td>\n",
       "      <td>16</td>\n",
       "    </tr>\n",
       "  </tbody>\n",
       "</table>\n",
       "</div>"
      ],
      "text/plain": [
       "       DR_NO  Date Rptd   DATE OCC TIME OCC  AREA NAME        Crm Cd Desc  \\\n",
       "0  220314085 2022-07-22 2020-05-12     1110  Southwest  THEFT OF IDENTITY   \n",
       "1  222013040 2022-08-06 2020-06-04     1620    Olympic  THEFT OF IDENTITY   \n",
       "\n",
       "   Vict Age Vict Sex Vict Descent Weapon Desc  Status Desc  \\\n",
       "0        27        F            B         NaN  Invest Cont   \n",
       "1        60        M            H         NaN  Invest Cont   \n",
       "\n",
       "                                  LOCATION  hour  \n",
       "0  2500 S  SYCAMORE                     AV    11  \n",
       "1  3300    SAN MARINO                   ST    16  "
      ]
     },
     "execution_count": 305,
     "metadata": {},
     "output_type": "execute_result"
    }
   ],
   "source": [
    "##previewing new column\n",
    "\n",
    "crimes.head(2)"
   ]
  },
  {
   "cell_type": "markdown",
   "id": "6423c686-7e11-4053-9e76-57f36d5dd0d8",
   "metadata": {},
   "source": [
    "## seaborn.countplot\n",
    "\n",
    "Show the counts of observations in each categorical bin using bars.\n",
    "\n",
    "A count plot can be thought of as a histogram across a categorical, instead of quantitative, variable. The basic API and options are identical to those for barplot(), so you can compare counts across nested variables.\n",
    "\n",
    "Note that histplot() function offers similar functionality with additional features (e.g. bar stacking), although its default behavior is somewhat different."
   ]
  },
  {
   "cell_type": "code",
   "execution_count": 308,
   "id": "cb4cf94f-8491-4746-9d51-b2093072c612",
   "metadata": {
    "tags": []
   },
   "outputs": [
    {
     "data": {
      "image/png": "[encoded data removed]",
      "text/plain": [
       "<Figure size 640x480 with 1 Axes>"
      ]
     },
     "metadata": {},
     "output_type": "display_data"
    }
   ],
   "source": [
    "#producing countplot to find largest frequency by hours\n",
    "\n",
    "sns.countplot(x=\"hour\", data=crimes)\n",
    "plt.show()"
   ]
  },
  {
   "cell_type": "markdown",
   "id": "4733de14-640d-482d-b092-4af05aeeb383",
   "metadata": {},
   "source": [
    "**ANS**\n",
    "\n",
    "peak_crime_hour = 12"
   ]
  },
  {
   "cell_type": "markdown",
   "id": "f0df4a0b-503e-41e2-a123-11cbf9125368",
   "metadata": {},
   "source": [
    "### Part B\n",
    "\n",
    "Which area has the largest frequency of night crimes (crimes committed between 10pm and 3:59am)? Save as a string variable called `peak_night_crime_location`"
   ]
  },
  {
   "cell_type": "markdown",
   "id": "8fbf78d0-2d6d-4464-943b-b5124f2da1cf",
   "metadata": {},
   "source": [
    "### .isin()\n",
    "\n",
    "- Whether each element in the DataFrame is contained in values.\n",
    "\n",
    "The result will only be true at a location if all the labels match. If values is a Series, that’s the index. If values is a dict, the keys must be the column names, which must match. If values is a DataFrame, then both the index and column labels must match."
   ]
  },
  {
   "cell_type": "code",
   "execution_count": 313,
   "id": "a63fa82c-36aa-4399-b809-910affeb5077",
   "metadata": {
    "tags": []
   },
   "outputs": [
    {
     "data": {
      "text/html": [
       "<div>\n",
       "<style scoped>\n",
       "    .dataframe tbody tr th:only-of-type {\n",
       "        vertical-align: middle;\n",
       "    }\n",
       "\n",
       "    .dataframe tbody tr th {\n",
       "        vertical-align: top;\n",
       "    }\n",
       "\n",
       "    .dataframe thead th {\n",
       "        text-align: right;\n",
       "    }\n",
       "</style>\n",
       "<table border=\"1\" class=\"dataframe\">\n",
       "  <thead>\n",
       "    <tr style=\"text-align: right;\">\n",
       "      <th></th>\n",
       "      <th>DR_NO</th>\n",
       "      <th>Date Rptd</th>\n",
       "      <th>DATE OCC</th>\n",
       "      <th>TIME OCC</th>\n",
       "      <th>AREA NAME</th>\n",
       "      <th>Crm Cd Desc</th>\n",
       "      <th>Vict Age</th>\n",
       "      <th>Vict Sex</th>\n",
       "      <th>Vict Descent</th>\n",
       "      <th>Weapon Desc</th>\n",
       "      <th>Status Desc</th>\n",
       "      <th>LOCATION</th>\n",
       "      <th>hour</th>\n",
       "    </tr>\n",
       "  </thead>\n",
       "  <tbody>\n",
       "    <tr>\n",
       "      <th>8</th>\n",
       "      <td>231207476</td>\n",
       "      <td>2023-02-27</td>\n",
       "      <td>2020-08-15</td>\n",
       "      <td>0001</td>\n",
       "      <td>77th Street</td>\n",
       "      <td>BURGLARY</td>\n",
       "      <td>72</td>\n",
       "      <td>M</td>\n",
       "      <td>B</td>\n",
       "      <td>NaN</td>\n",
       "      <td>Invest Cont</td>\n",
       "      <td>8800    HAAS                         AV</td>\n",
       "      <td>0</td>\n",
       "    </tr>\n",
       "    <tr>\n",
       "      <th>10</th>\n",
       "      <td>221711184</td>\n",
       "      <td>2022-06-15</td>\n",
       "      <td>2020-05-15</td>\n",
       "      <td>0155</td>\n",
       "      <td>Devonshire</td>\n",
       "      <td>THEFT OF IDENTITY</td>\n",
       "      <td>27</td>\n",
       "      <td>M</td>\n",
       "      <td>B</td>\n",
       "      <td>NaN</td>\n",
       "      <td>Invest Cont</td>\n",
       "      <td>8300    WHITE OAK                    AV</td>\n",
       "      <td>1</td>\n",
       "    </tr>\n",
       "  </tbody>\n",
       "</table>\n",
       "</div>"
      ],
      "text/plain": [
       "        DR_NO  Date Rptd   DATE OCC TIME OCC    AREA NAME        Crm Cd Desc  \\\n",
       "8   231207476 2023-02-27 2020-08-15     0001  77th Street           BURGLARY   \n",
       "10  221711184 2022-06-15 2020-05-15     0155   Devonshire  THEFT OF IDENTITY   \n",
       "\n",
       "    Vict Age Vict Sex Vict Descent Weapon Desc  Status Desc  \\\n",
       "8         72        M            B         NaN  Invest Cont   \n",
       "10        27        M            B         NaN  Invest Cont   \n",
       "\n",
       "                                   LOCATION  hour  \n",
       "8   8800    HAAS                         AV     0  \n",
       "10  8300    WHITE OAK                    AV     1  "
      ]
     },
     "execution_count": 313,
     "metadata": {},
     "output_type": "execute_result"
    }
   ],
   "source": [
    "night_time = crimes[crimes[\"hour\"].isin([22,23,0,1,2,3])]\n",
    "night_time.head(2)"
   ]
  },
  {
   "cell_type": "markdown",
   "id": "962980eb-20ad-42ee-a5d3-73d67e77f469",
   "metadata": {},
   "source": [
    "##### <span style=\"color:blue;\"> Testing start</span>\n",
    "\n",
    "**on groupby as_index**"
   ]
  },
  {
   "cell_type": "code",
   "execution_count": 316,
   "id": "673524f7-5d88-420a-96ab-dc5d56bb6f88",
   "metadata": {
    "scrolled": true,
    "tags": []
   },
   "outputs": [
    {
     "data": {
      "text/plain": [
       "AREA NAME\n",
       "77th Street    2558\n",
       "Central        3312\n",
       "Devonshire     1348\n",
       "Foothill       1260\n",
       "Harbor         1384\n",
       "Hollenbeck     1315\n",
       "Hollywood      2699\n",
       "Mission        1453\n",
       "N Hollywood    1855\n",
       "Newton         2142\n",
       "Northeast      1684\n",
       "Olympic        2137\n",
       "Pacific        1916\n",
       "Rampart        1860\n",
       "Southeast      2218\n",
       "Southwest      2347\n",
       "Topanga        1461\n",
       "Van Nuys       1629\n",
       "West LA        1369\n",
       "West Valley    1520\n",
       "Wilshire       1716\n",
       "Name: hour, dtype: int64"
      ]
     },
     "execution_count": 316,
     "metadata": {},
     "output_type": "execute_result"
    }
   ],
   "source": [
    "#groupbing by area name with hour\n",
    "peak_night_location = night_time.groupby(\"AREA NAME\")[\"hour\"].count()\n",
    "peak_night_location"
   ]
  },
  {
   "cell_type": "code",
   "execution_count": 318,
   "id": "495d3494-9af1-4577-bf07-c3144dd8353d",
   "metadata": {
    "scrolled": true,
    "tags": []
   },
   "outputs": [
    {
     "data": {
      "text/html": [
       "<div>\n",
       "<style scoped>\n",
       "    .dataframe tbody tr th:only-of-type {\n",
       "        vertical-align: middle;\n",
       "    }\n",
       "\n",
       "    .dataframe tbody tr th {\n",
       "        vertical-align: top;\n",
       "    }\n",
       "\n",
       "    .dataframe thead th {\n",
       "        text-align: right;\n",
       "    }\n",
       "</style>\n",
       "<table border=\"1\" class=\"dataframe\">\n",
       "  <thead>\n",
       "    <tr style=\"text-align: right;\">\n",
       "      <th></th>\n",
       "      <th>AREA NAME</th>\n",
       "      <th>hour</th>\n",
       "    </tr>\n",
       "  </thead>\n",
       "  <tbody>\n",
       "    <tr>\n",
       "      <th>0</th>\n",
       "      <td>77th Street</td>\n",
       "      <td>2558</td>\n",
       "    </tr>\n",
       "    <tr>\n",
       "      <th>1</th>\n",
       "      <td>Central</td>\n",
       "      <td>3312</td>\n",
       "    </tr>\n",
       "    <tr>\n",
       "      <th>2</th>\n",
       "      <td>Devonshire</td>\n",
       "      <td>1348</td>\n",
       "    </tr>\n",
       "    <tr>\n",
       "      <th>3</th>\n",
       "      <td>Foothill</td>\n",
       "      <td>1260</td>\n",
       "    </tr>\n",
       "    <tr>\n",
       "      <th>4</th>\n",
       "      <td>Harbor</td>\n",
       "      <td>1384</td>\n",
       "    </tr>\n",
       "    <tr>\n",
       "      <th>5</th>\n",
       "      <td>Hollenbeck</td>\n",
       "      <td>1315</td>\n",
       "    </tr>\n",
       "    <tr>\n",
       "      <th>6</th>\n",
       "      <td>Hollywood</td>\n",
       "      <td>2699</td>\n",
       "    </tr>\n",
       "    <tr>\n",
       "      <th>7</th>\n",
       "      <td>Mission</td>\n",
       "      <td>1453</td>\n",
       "    </tr>\n",
       "    <tr>\n",
       "      <th>8</th>\n",
       "      <td>N Hollywood</td>\n",
       "      <td>1855</td>\n",
       "    </tr>\n",
       "    <tr>\n",
       "      <th>9</th>\n",
       "      <td>Newton</td>\n",
       "      <td>2142</td>\n",
       "    </tr>\n",
       "    <tr>\n",
       "      <th>10</th>\n",
       "      <td>Northeast</td>\n",
       "      <td>1684</td>\n",
       "    </tr>\n",
       "    <tr>\n",
       "      <th>11</th>\n",
       "      <td>Olympic</td>\n",
       "      <td>2137</td>\n",
       "    </tr>\n",
       "    <tr>\n",
       "      <th>12</th>\n",
       "      <td>Pacific</td>\n",
       "      <td>1916</td>\n",
       "    </tr>\n",
       "    <tr>\n",
       "      <th>13</th>\n",
       "      <td>Rampart</td>\n",
       "      <td>1860</td>\n",
       "    </tr>\n",
       "    <tr>\n",
       "      <th>14</th>\n",
       "      <td>Southeast</td>\n",
       "      <td>2218</td>\n",
       "    </tr>\n",
       "    <tr>\n",
       "      <th>15</th>\n",
       "      <td>Southwest</td>\n",
       "      <td>2347</td>\n",
       "    </tr>\n",
       "    <tr>\n",
       "      <th>16</th>\n",
       "      <td>Topanga</td>\n",
       "      <td>1461</td>\n",
       "    </tr>\n",
       "    <tr>\n",
       "      <th>17</th>\n",
       "      <td>Van Nuys</td>\n",
       "      <td>1629</td>\n",
       "    </tr>\n",
       "    <tr>\n",
       "      <th>18</th>\n",
       "      <td>West LA</td>\n",
       "      <td>1369</td>\n",
       "    </tr>\n",
       "    <tr>\n",
       "      <th>19</th>\n",
       "      <td>West Valley</td>\n",
       "      <td>1520</td>\n",
       "    </tr>\n",
       "    <tr>\n",
       "      <th>20</th>\n",
       "      <td>Wilshire</td>\n",
       "      <td>1716</td>\n",
       "    </tr>\n",
       "  </tbody>\n",
       "</table>\n",
       "</div>"
      ],
      "text/plain": [
       "      AREA NAME  hour\n",
       "0   77th Street  2558\n",
       "1       Central  3312\n",
       "2    Devonshire  1348\n",
       "3      Foothill  1260\n",
       "4        Harbor  1384\n",
       "5    Hollenbeck  1315\n",
       "6     Hollywood  2699\n",
       "7       Mission  1453\n",
       "8   N Hollywood  1855\n",
       "9        Newton  2142\n",
       "10    Northeast  1684\n",
       "11      Olympic  2137\n",
       "12      Pacific  1916\n",
       "13      Rampart  1860\n",
       "14    Southeast  2218\n",
       "15    Southwest  2347\n",
       "16      Topanga  1461\n",
       "17     Van Nuys  1629\n",
       "18      West LA  1369\n",
       "19  West Valley  1520\n",
       "20     Wilshire  1716"
      ]
     },
     "execution_count": 318,
     "metadata": {},
     "output_type": "execute_result"
    }
   ],
   "source": [
    "#groupbing by area name with hour\n",
    "peak_night_location = night_time.groupby(\"AREA NAME\",as_index=False)[\"hour\"].count()\n",
    "peak_night_location"
   ]
  },
  {
   "cell_type": "markdown",
   "id": "7609ab6b-29ca-4a2e-a20d-5f218b18e1df",
   "metadata": {
    "tags": []
   },
   "source": [
    "**need to have 2 columns otherwise .sort_values() will trigger error**"
   ]
  },
  {
   "cell_type": "markdown",
   "id": "201ff1c4-e872-4f9e-8e8f-a20bb9303ddd",
   "metadata": {},
   "source": [
    "##### <span style=\"color:blue;\"> Testing end</span>"
   ]
  },
  {
   "cell_type": "code",
   "execution_count": 322,
   "id": "068bc945-d065-4ed6-9dfa-7f927e18bfbe",
   "metadata": {
    "tags": []
   },
   "outputs": [
    {
     "data": {
      "text/html": [
       "<div>\n",
       "<style scoped>\n",
       "    .dataframe tbody tr th:only-of-type {\n",
       "        vertical-align: middle;\n",
       "    }\n",
       "\n",
       "    .dataframe tbody tr th {\n",
       "        vertical-align: top;\n",
       "    }\n",
       "\n",
       "    .dataframe thead th {\n",
       "        text-align: right;\n",
       "    }\n",
       "</style>\n",
       "<table border=\"1\" class=\"dataframe\">\n",
       "  <thead>\n",
       "    <tr style=\"text-align: right;\">\n",
       "      <th></th>\n",
       "      <th>AREA NAME</th>\n",
       "      <th>hour</th>\n",
       "    </tr>\n",
       "  </thead>\n",
       "  <tbody>\n",
       "    <tr>\n",
       "      <th>1</th>\n",
       "      <td>Central</td>\n",
       "      <td>3312</td>\n",
       "    </tr>\n",
       "    <tr>\n",
       "      <th>6</th>\n",
       "      <td>Hollywood</td>\n",
       "      <td>2699</td>\n",
       "    </tr>\n",
       "    <tr>\n",
       "      <th>0</th>\n",
       "      <td>77th Street</td>\n",
       "      <td>2558</td>\n",
       "    </tr>\n",
       "    <tr>\n",
       "      <th>15</th>\n",
       "      <td>Southwest</td>\n",
       "      <td>2347</td>\n",
       "    </tr>\n",
       "    <tr>\n",
       "      <th>14</th>\n",
       "      <td>Southeast</td>\n",
       "      <td>2218</td>\n",
       "    </tr>\n",
       "  </tbody>\n",
       "</table>\n",
       "</div>"
      ],
      "text/plain": [
       "      AREA NAME  hour\n",
       "1       Central  3312\n",
       "6     Hollywood  2699\n",
       "0   77th Street  2558\n",
       "15    Southwest  2347\n",
       "14    Southeast  2218"
      ]
     },
     "execution_count": 322,
     "metadata": {},
     "output_type": "execute_result"
    }
   ],
   "source": [
    "#groupby area with hours\n",
    "#sorting hours in descending\n",
    "\n",
    "sorted_peak_night_location = night_time.groupby(\"AREA NAME\",as_index=False)[\"hour\"].count().sort_values(\"hour\",ascending=False)\n",
    "sorted_peak_night_location.head()"
   ]
  },
  {
   "cell_type": "markdown",
   "id": "6c1281d2-2b14-48da-ab25-149ae5043345",
   "metadata": {},
   "source": [
    "##### <span style=\"color:blue;\"> Testing start</span>\n",
    "\n",
    "##### <span style=\"color:blue;\"> row slicing using  [ ] </span>"
   ]
  },
  {
   "cell_type": "code",
   "execution_count": 325,
   "id": "addee5d2-a63f-4a23-83a0-968f0e534ce9",
   "metadata": {
    "tags": []
   },
   "outputs": [
    {
     "data": {
      "text/html": [
       "<div>\n",
       "<style scoped>\n",
       "    .dataframe tbody tr th:only-of-type {\n",
       "        vertical-align: middle;\n",
       "    }\n",
       "\n",
       "    .dataframe tbody tr th {\n",
       "        vertical-align: top;\n",
       "    }\n",
       "\n",
       "    .dataframe thead th {\n",
       "        text-align: right;\n",
       "    }\n",
       "</style>\n",
       "<table border=\"1\" class=\"dataframe\">\n",
       "  <thead>\n",
       "    <tr style=\"text-align: right;\">\n",
       "      <th></th>\n",
       "      <th>AREA NAME</th>\n",
       "      <th>hour</th>\n",
       "    </tr>\n",
       "  </thead>\n",
       "  <tbody>\n",
       "    <tr>\n",
       "      <th>6</th>\n",
       "      <td>Hollywood</td>\n",
       "      <td>2699</td>\n",
       "    </tr>\n",
       "    <tr>\n",
       "      <th>0</th>\n",
       "      <td>77th Street</td>\n",
       "      <td>2558</td>\n",
       "    </tr>\n",
       "    <tr>\n",
       "      <th>15</th>\n",
       "      <td>Southwest</td>\n",
       "      <td>2347</td>\n",
       "    </tr>\n",
       "  </tbody>\n",
       "</table>\n",
       "</div>"
      ],
      "text/plain": [
       "      AREA NAME  hour\n",
       "6     Hollywood  2699\n",
       "0   77th Street  2558\n",
       "15    Southwest  2347"
      ]
     },
     "execution_count": 325,
     "metadata": {},
     "output_type": "execute_result"
    }
   ],
   "source": [
    "sorted_peak_night_location[1:4] #this is similar to range(1,4) #index always start at 0"
   ]
  },
  {
   "cell_type": "markdown",
   "id": "50f10e45-4c5f-48ec-a106-d5258996d2a6",
   "metadata": {
    "tags": []
   },
   "source": [
    "##### <span style=\"color:blue;\"> slicing using  iloc[ ] </span>\n",
    "\n",
    "- loc is a technique to select parts of your data based on labels, iloc is position based.\n",
    "\n",
    "- iloc subset pandas dataframes based on their position or index"
   ]
  },
  {
   "cell_type": "code",
   "execution_count": 328,
   "id": "828184cc-46a3-44ea-9305-d7f90c30532c",
   "metadata": {
    "tags": []
   },
   "outputs": [
    {
     "data": {
      "text/html": [
       "<div>\n",
       "<style scoped>\n",
       "    .dataframe tbody tr th:only-of-type {\n",
       "        vertical-align: middle;\n",
       "    }\n",
       "\n",
       "    .dataframe tbody tr th {\n",
       "        vertical-align: top;\n",
       "    }\n",
       "\n",
       "    .dataframe thead th {\n",
       "        text-align: right;\n",
       "    }\n",
       "</style>\n",
       "<table border=\"1\" class=\"dataframe\">\n",
       "  <thead>\n",
       "    <tr style=\"text-align: right;\">\n",
       "      <th></th>\n",
       "      <th>AREA NAME</th>\n",
       "      <th>hour</th>\n",
       "    </tr>\n",
       "  </thead>\n",
       "  <tbody>\n",
       "    <tr>\n",
       "      <th>0</th>\n",
       "      <td>77th Street</td>\n",
       "      <td>2558</td>\n",
       "    </tr>\n",
       "    <tr>\n",
       "      <th>15</th>\n",
       "      <td>Southwest</td>\n",
       "      <td>2347</td>\n",
       "    </tr>\n",
       "    <tr>\n",
       "      <th>14</th>\n",
       "      <td>Southeast</td>\n",
       "      <td>2218</td>\n",
       "    </tr>\n",
       "    <tr>\n",
       "      <th>9</th>\n",
       "      <td>Newton</td>\n",
       "      <td>2142</td>\n",
       "    </tr>\n",
       "  </tbody>\n",
       "</table>\n",
       "</div>"
      ],
      "text/plain": [
       "      AREA NAME  hour\n",
       "0   77th Street  2558\n",
       "15    Southwest  2347\n",
       "14    Southeast  2218\n",
       "9        Newton  2142"
      ]
     },
     "execution_count": 328,
     "metadata": {},
     "output_type": "execute_result"
    }
   ],
   "source": [
    "#sorted_peak_night_location.iloc[:5] #from start to end\n",
    "sorted_peak_night_location.iloc[2:6] #from index 2 to 5"
   ]
  },
  {
   "cell_type": "markdown",
   "id": "21769f9f-84dd-4396-89ba-3e00d88d8e37",
   "metadata": {
    "tags": []
   },
   "source": [
    "##### <span style=\"color:blue;\"> Testing end</span>"
   ]
  },
  {
   "cell_type": "code",
   "execution_count": 331,
   "id": "afeac00a-84ff-427d-8b27-4a228ff0f289",
   "metadata": {
    "tags": []
   },
   "outputs": [
    {
     "name": "stdout",
     "output_type": "stream",
     "text": [
      "The area with the largest values of night crime is Central\n"
     ]
    }
   ],
   "source": [
    "#slciing the 1st row of df\n",
    "peak_night_crime_location = sorted_peak_night_location.iloc[0][\"AREA NAME\"]\n",
    "print(f\"The area with the largest values of night crime is {peak_night_crime_location}\")"
   ]
  },
  {
   "cell_type": "markdown",
   "id": "a6a3be53-232a-425d-9865-2aaddd7b6b34",
   "metadata": {},
   "source": [
    "### Part C\n",
    "\n",
    "- Identify the number of crimes committed against victims of different age groups. Save as a pandas Series called `victim_ages`, with age group labels `\"0-17\"`, `\"18-25\"`, `\"26-34`\", `\"35-44\"`, `\"45-54\"`, `\"55-64\"`, and `\"65+\"` as the index and the frequency of crimes as the values."
   ]
  },
  {
   "cell_type": "code",
   "execution_count": 339,
   "id": "1745c131-d7d6-4614-af48-e2545fb1724c",
   "metadata": {
    "tags": []
   },
   "outputs": [],
   "source": [
    "# Create bins and labels for victim age ranges\n",
    "age_bins = [0, 17, 25, 34, 44, 54, 64, np.inf] #np.inf = +ve or -ve infinity\n",
    "age_labels = [\"0-17\", \"18-25\", \"26-34\", \"35-44\", \"45-54\", \"55-64\", \"65+\"]"
   ]
  },
  {
   "cell_type": "markdown",
   "id": "3acfc989-98aa-4c36-a142-e52034d8fe79",
   "metadata": {},
   "source": [
    "#### pandas.cut\n",
    "\n",
    "- pandas.cut(x, bins, right=True, labels=None, retbins=False, precision=3, include_lowest=False, duplicates='raise', ordered=True)\n",
    "\n",
    "- Bin values into discrete intervals.\n",
    "\n",
    "- Use cut when you need to segment and sort data values into bins. This function is also useful for going from a continuous variable to a categorical variable. For example, cut could convert ages to groups of age ranges. Supports binning into an equal number of bins, or a pre-specified array of bins.\n",
    "\n",
    "Parameters\n",
    "\n",
    "x : \n",
    "array-like\n",
    "The input array to be binned. Must be 1-dimensional.\n",
    "\n",
    "bins  : \n",
    "int, sequence of scalars, or IntervalIndex\n",
    "The criteria to bin by.\n",
    "\n",
    "int : Defines the number of equal-width bins in the range of x. The range of x is extended by .1% on each side to include the minimum and maximum values of x.\n",
    "\n",
    "sequence of scalars : Defines the bin edges allowing for non-uniform width. No extension of the range of x is done.\n",
    "\n",
    "IntervalIndex : Defines the exact bins to be used. Note that IntervalIndex for bins must be non-overlapping.\n",
    "\n",
    "right  : \n",
    "bool, default True\n",
    "Indicates whether bins includes the rightmost edge or not. If right == True (the default), then the bins [1, 2, 3, 4] indicate (1,2], (2,3], (3,4]. This argument is ignored when bins is an IntervalIndex.\n",
    "\n",
    "labels  : \n",
    "array or False, default None\n",
    "Specifies the labels for the returned bins. Must be the same length as the resulting bins. If False, returns only integer indicators of the bins. This affects the type of the output container (see below). This argument is ignored when bins is an IntervalIndex. If True, raises an error. When ordered=False, labels must be provided.\n",
    "\n",
    "retbins  : \n",
    "bool, default False\n",
    "Whether to return the bins or not. Useful when bins is provided as a scalar.\n",
    "\n",
    "precision  : \n",
    "int, default 3\n",
    "The precision at which to store and display the bins labels.\n",
    "\n",
    "include_lowest  : \n",
    "bool, default False\n",
    "Whether the first interval should be left-inclusive or not.\n",
    "\n",
    "duplicates  : \n",
    "{default ‘raise’, ‘drop’}, optional\n",
    "If bin edges are not unique, raise ValueError or drop non-uniques.\n",
    "\n",
    "ordered  : \n",
    "bool, default True\n",
    "Whether the labels are ordered or not. Applies to returned types Categorical and Series (with Categorical dtype). If True, the resulting categorical will be ordered. If False, the resulting categorical will be unordered (labels must be provided)."
   ]
  },
  {
   "cell_type": "code",
   "execution_count": 357,
   "id": "180cb7fe-d197-42b4-b52e-6b542d5a4782",
   "metadata": {
    "tags": []
   },
   "outputs": [
    {
     "data": {
      "text/plain": [
       "0    27\n",
       "1    60\n",
       "2    28\n",
       "3    37\n",
       "4    79\n",
       "Name: Vict Age, dtype: int64"
      ]
     },
     "execution_count": 357,
     "metadata": {},
     "output_type": "execute_result"
    }
   ],
   "source": [
    "#before using pd.cut\n",
    "crimes[\"Vict Age\"].head()"
   ]
  },
  {
   "cell_type": "code",
   "execution_count": 355,
   "id": "d2319902-9f6f-489b-a2f2-f09a1a4a16b4",
   "metadata": {
    "tags": []
   },
   "outputs": [
    {
     "data": {
      "text/plain": [
       "0    26-34\n",
       "1    55-64\n",
       "2    26-34\n",
       "3    35-44\n",
       "4      65+\n",
       "Name: Age Bracket, dtype: category\n",
       "Categories (7, object): ['0-17' < '18-25' < '26-34' < '35-44' < '45-54' < '55-64' < '65+']"
      ]
     },
     "execution_count": 355,
     "metadata": {},
     "output_type": "execute_result"
    }
   ],
   "source": [
    "# Add a new column using pd.cut() to bin values into discrete intervals\n",
    "crimes[\"Age Bracket\"] = pd.cut(crimes[\"Vict Age\"],\n",
    "                              bins=age_bins,\n",
    "                              labels=age_labels)\n",
    "crimes[\"Age Bracket\"].head()"
   ]
  },
  {
   "cell_type": "markdown",
   "id": "9d1ec975-c69e-4513-9098-52c709d70f2e",
   "metadata": {
    "tags": []
   },
   "source": [
    "**after using cut, it will store age 27,60,28 into their respective labels**"
   ]
  },
  {
   "cell_type": "code",
   "execution_count": 365,
   "id": "acff7678-06c6-40d2-8db7-5697b5cfed11",
   "metadata": {
    "tags": []
   },
   "outputs": [
    {
     "data": {
      "text/plain": [
       "Age Bracket\n",
       "26-34    47470\n",
       "35-44    42157\n",
       "45-54    28353\n",
       "18-25    28291\n",
       "55-64    20169\n",
       "65+      14747\n",
       "0-17      4528\n",
       "Name: count, dtype: int64"
      ]
     },
     "execution_count": 365,
     "metadata": {},
     "output_type": "execute_result"
    }
   ],
   "source": [
    "#Find the category with the largest frequency\n",
    "victim_ages= crimes[\"Age Bracket\"].value_counts()\n",
    "victim_ages"
   ]
  },
  {
   "cell_type": "markdown",
   "id": "6bb28f18-6c33-46db-9d30-40b09e9283d5",
   "metadata": {},
   "source": [
    "## <span style=\"color:red;\"> DataCamp solution</span>"
   ]
  },
  {
   "cell_type": "code",
   "execution_count": 36,
   "id": "53eada96-447c-46c3-9848-f4ca3de53d06",
   "metadata": {
    "executionCancelledAt": null,
    "executionTime": 862,
    "lastExecutedAt": 1718270849134,
    "lastExecutedByKernel": "e15b778f-fef2-4c54-81b0-bbb79b433fd9",
    "lastScheduledRunId": null,
    "lastSuccessfullyExecutedCode": "# Start coding here\n# Use as many cells as you need\n\nimport pandas as pd\nimport numpy as np\nimport matplotlib.pyplot as plt\nimport seaborn as sns\n\ncrimes = pd.read_csv(\"crimes.csv\", parse_dates=[\"Date Rptd\", \"DATE OCC\"], dtype={\"TIME OCC\": str})\ncrimes.head()\n\n## Which hour has the highest frequency of crimes? Store as an integer variable called peak_crime_hour.\n\n#extact the frist 2 digits(hour) from TIME OCC Columns and store as an integer and convert to integer data type\ncrimes[\"HOUR OCC\"] = crimes[\"TIME OCC\"].str[:2].astype(int)\n\n# Preview the DataFrame to confirm the new column is correct\ncrimes.head()\n\n# Produce a countplot to find the largest frequency of crimes by hour\nsns.countplot(data=crimes, x=\"HOUR OCC\")\nplt.show()\n\n# Midday has the largest volume of crime\npeak_crime_hour = 12\n\n\n## Which area has the largest frequency of night crimes (crimes committed between 10pm and 3:59am)? Save as a string variable called peak_night_crime_location.\n\n#Filtering for night-time hours (0 = midnihght ,3=crimes between 3am and 3.59am)\nnight_time = crimes[crimes[\"HOUR OCC\"].isin([22,23,0,1,2,3])]\n\n# Group by \"AREA NAME\" and count occurrences, filtering for the largest value and saving the \"AREA NAME\"\npeak_night_crime_location = night_time.groupby(\"AREA NAME\", \n                                               as_index=False)[\"HOUR OCC\"].count().sort_values(\"HOUR OCC\",\n                                                                                               ascending=False).iloc[0][\"AREA NAME\"]\n# Print the peak night crime location\nprint(f\"The area with the largest volume of night crime is {peak_night_crime_location}\")\n\n\n## Identify the number of crimes committed against victims by age group (0-17, 18-25, 26-34, 35-44, 45-54, 55-64, 65+) \n## Save as a pandas Series called victim_ages\n# Create bins and labels for victim age ranges\nage_bins = [0, 17, 25, 34, 44, 54, 64, np.inf]\nage_labels = [\"0-17\", \"18-25\", \"26-34\", \"35-44\", \"45-54\", \"55-64\", \"65+\"]\n\n# Add a new column using pd.cut() to bin values into discrete intervals\ncrimes[\"Age Bracket\"] = pd.cut(crimes[\"Vict Age\"],\n                               bins=age_bins,\n                               labels=age_labels)\n\n# Find the category with the largest frequency\nvictim_ages = crimes[\"Age Bracket\"].value_counts()\nprint(victim_ages)",
    "outputsMetadata": {
     "0": {
      "height": 206,
      "type": "stream"
     },
     "1": {
      "height": 206,
      "type": "stream"
     }
    }
   },
   "outputs": [
    {
     "data": {
      "image/png": "[encoded data removed]",
      "text/plain": [
       "<Figure size 640x480 with 1 Axes>"
      ]
     },
     "metadata": {
      "image/png": {
       "height": 432,
       "width": 584
      }
     },
     "output_type": "display_data"
    },
    {
     "name": "stdout",
     "output_type": "stream",
     "text": [
      "The area with the largest volume of night crime is Central\n",
      "26-34    47470\n",
      "35-44    42157\n",
      "45-54    28353\n",
      "18-25    28291\n",
      "55-64    20169\n",
      "65+      14747\n",
      "0-17      4528\n",
      "Name: Age Bracket, dtype: int64\n"
     ]
    }
   ],
   "source": [
    "# Start coding here\n",
    "# Use as many cells as you need\n",
    "\n",
    "import pandas as pd\n",
    "import numpy as np\n",
    "import matplotlib.pyplot as plt\n",
    "import seaborn as sns\n",
    "\n",
    "crimes = pd.read_csv(\"crimes.csv\", parse_dates=[\"Date Rptd\", \"DATE OCC\"], dtype={\"TIME OCC\": str})\n",
    "crimes.head()\n",
    "\n",
    "## Which hour has the highest frequency of crimes? Store as an integer variable called peak_crime_hour.\n",
    "\n",
    "#extact the frist 2 digits(hour) from TIME OCC Columns and store as an integer and convert to integer data type\n",
    "crimes[\"HOUR OCC\"] = crimes[\"TIME OCC\"].str[:2].astype(int)\n",
    "\n",
    "# Preview the DataFrame to confirm the new column is correct\n",
    "crimes.head()\n",
    "\n",
    "# Produce a countplot to find the largest frequency of crimes by hour\n",
    "sns.countplot(data=crimes, x=\"HOUR OCC\")\n",
    "plt.show()\n",
    "\n",
    "# Midday has the largest volume of crime\n",
    "peak_crime_hour = 12\n",
    "\n",
    "\n",
    "## Which area has the largest frequency of night crimes (crimes committed between 10pm and 3:59am)? Save as a string variable called peak_night_crime_location.\n",
    "\n",
    "#Filtering for night-time hours (0 = midnihght ,3=crimes between 3am and 3.59am)\n",
    "night_time = crimes[crimes[\"HOUR OCC\"].isin([22,23,0,1,2,3])]\n",
    "\n",
    "# Group by \"AREA NAME\" and count occurrences, filtering for the largest value and saving the \"AREA NAME\"\n",
    "peak_night_crime_location = night_time.groupby(\"AREA NAME\", \n",
    "                                               as_index=False)[\"HOUR OCC\"].count().sort_values(\"HOUR OCC\",\n",
    "                                                                                               ascending=False).iloc[0][\"AREA NAME\"]\n",
    "# Print the peak night crime location\n",
    "print(f\"The area with the largest volume of night crime is {peak_night_crime_location}\")\n",
    "\n",
    "\n",
    "## Identify the number of crimes committed against victims by age group (0-17, 18-25, 26-34, 35-44, 45-54, 55-64, 65+) \n",
    "## Save as a pandas Series called victim_ages\n",
    "# Create bins and labels for victim age ranges\n",
    "age_bins = [0, 17, 25, 34, 44, 54, 64, np.inf]\n",
    "age_labels = [\"0-17\", \"18-25\", \"26-34\", \"35-44\", \"45-54\", \"55-64\", \"65+\"]\n",
    "\n",
    "# Add a new column using pd.cut() to bin values into discrete intervals\n",
    "crimes[\"Age Bracket\"] = pd.cut(crimes[\"Vict Age\"],\n",
    "                               bins=age_bins,\n",
    "                               labels=age_labels)\n",
    "\n",
    "# Find the category with the largest frequency\n",
    "victim_ages = crimes[\"Age Bracket\"].value_counts()\n",
    "print(victim_ages)"
   ]
  }
 ],
 "metadata": {
  "colab": {
   "name": "Welcome to DataCamp Workspaces.ipynb",
   "provenance": []
  },
  "kernelspec": {
   "display_name": "Python 3 (ipykernel)",
   "language": "python",
   "name": "python3"
  },
  "language_info": {
   "codemirror_mode": {
    "name": "ipython",
    "version": 3
   },
   "file_extension": ".py",
   "mimetype": "text/x-python",
   "name": "python",
   "nbconvert_exporter": "python",
   "pygments_lexer": "ipython3",
   "version": "3.11.9"
  }
 },
 "nbformat": 4,
 "nbformat_minor": 5
}
