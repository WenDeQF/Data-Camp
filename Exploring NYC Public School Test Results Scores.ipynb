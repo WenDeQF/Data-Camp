{
 "cells": [
  {
   "cell_type": "markdown",
   "id": "fe0ea788-58dd-459e-8976-fafdb5c05c6d",
   "metadata": {},
   "source": [
    "# Data Analyst with Python Project\n",
    "\n",
    "# Exploring NYC Public School Test Results Scores"
   ]
  },
  {
   "cell_type": "markdown",
   "id": "7207da92-01c4-4284-b7f9-fb474e6b29f1",
   "metadata": {},
   "source": [
    "## <span style=\"color:red;\"> Project Instructions</span>\n",
    "\n",
    "Which NYC schools have the best math results?\n",
    "\n",
    "- The best math results are at least 80% of the ***maximum possible score of 800* for math**.\n",
    "- Save your results in a pandas DataFrame called `best_math_schools`, including `\"school_name\"` and `\"average_math\"` columns, sorted by `\"average_math\"` in descending order.\n",
    "\n",
    "What are the top 10 performing schools based on the combined SAT scores?\n",
    "\n",
    "- Save your results as a pandas DataFrame called `top_10_schools` containing the `\"school_name\"` and a new column named `\"total_SAT\"`, with results ordered by `\"total_SAT\"` in descending order.\n",
    "\n",
    "Which single borough has the largest standard deviation in the combined SAT score?\n",
    "\n",
    "- Save your results as a pandas DataFrame called largest_std_dev.\n",
    "- The DataFrame should contain one row, with:\n",
    "\n",
    "> 1) `\"borough\"` - the name of the NYC borough with the largest standard deviation of `\"total_SAT\"`.\n",
    "> 2) `\"num_schools\"` - thenumber of schools in the borough.\n",
    "> 3) `\"average_SAT\"` - the mean of \"total_SAT\".\n",
    "> 4) `\"std_SAT\"` - the standard deviation of \"total_SAT\".\n",
    "- Round all numeric values to two decimal places."
   ]
  },
  {
   "cell_type": "markdown",
   "id": "547802f4-9cbc-42b2-aff1-de18afbcd73d",
   "metadata": {},
   "source": [
    "Every year, American high school students take SATs, which are standardized tests intended to measure literacy, numeracy, and writing skills. There are three sections - reading, math, and writing, each with a **maximum score of 800 points**. These tests are extremely important for students and colleges, as they play a pivotal role in the admissions process.\n",
    "\n",
    "Analyzing the performance of schools is important for a variety of stakeholders, including policy and education professionals, researchers, government, and even parents considering which school their children should attend. \n",
    "\n",
    "You have been provided with a dataset called `schools.csv`, which is previewed below.\n",
    "\n",
    "You have been tasked with answering three key questions about New York City (NYC) public school SAT performance."
   ]
  },
  {
   "cell_type": "code",
   "execution_count": 34,
   "id": "d0eb4f16-5a99-460d-a5ba-706b7ef0bbe7",
   "metadata": {
    "chartConfig": {
     "bar": {
      "hasRoundedCorners": true,
      "stacked": false
     },
     "type": "bar",
     "version": "v1"
    },
    "executionCancelledAt": null,
    "executionTime": 29,
    "id": "bA5ajAmk7XH6",
    "lastExecutedAt": 1711170866895,
    "lastScheduledRunId": null,
    "lastSuccessfullyExecutedCode": "# Re-run this cell \nimport pandas as pd\n\n# Read in the data\nschools = pd.read_csv(\"schools.csv\")\n\n# Preview the data\nschools.head()\n\n# Start coding here...\n\n#Which NYC schools have the best math results?\nbest_math_schools = schools[schools[\"average_math\"]>=640][[\"school_name\",\"average_math\"]].sort_values(\"average_math\",ascending=False)\n\n#What are the top 10 performing schools based on the combined SAT scores?\nschools[\"total_SAT\"] = schools[\"average_math\"] + schools[\"average_reading\"] + schools[\"average_writing\"]\ntop_10_schools = schools[[\"school_name\",\"total_SAT\"]].sort_values(\"total_SAT\",ascending=False).head(10)\n\n#Which single borough has the largest standard deviation in the combined SAT score?\nboroughs = schools.groupby(\"borough\")[\"total_SAT\"].agg([\"count\",\"mean\",\"std\"]).round(2)\nvalue = boroughs[\"std\"].max()\nlargest_std_dev = boroughs[boroughs[\"std\"] == value ] \nlargest_std_dev = largest_std_dev.rename(columns={\"count\":\"num_schools\", \"mean\":\"average_SAT\", \"std\":\"std_SAT\"})\nlargest_std_dev.reset_index(inplace=True)\nlargest_std_dev.head()\n#Add as many cells as you like...",
    "outputsMetadata": {
     "0": {
      "height": 96,
      "type": "dataFrame"
     }
    },
    "tags": [],
    "visualizeDataframe": false
   },
   "outputs": [
    {
     "data": {
      "text/html": [
       "<div>\n",
       "<style scoped>\n",
       "    .dataframe tbody tr th:only-of-type {\n",
       "        vertical-align: middle;\n",
       "    }\n",
       "\n",
       "    .dataframe tbody tr th {\n",
       "        vertical-align: top;\n",
       "    }\n",
       "\n",
       "    .dataframe thead th {\n",
       "        text-align: right;\n",
       "    }\n",
       "</style>\n",
       "<table border=\"1\" class=\"dataframe\">\n",
       "  <thead>\n",
       "    <tr style=\"text-align: right;\">\n",
       "      <th></th>\n",
       "      <th>school_name</th>\n",
       "      <th>borough</th>\n",
       "      <th>building_code</th>\n",
       "      <th>average_math</th>\n",
       "      <th>average_reading</th>\n",
       "      <th>average_writing</th>\n",
       "      <th>percent_tested</th>\n",
       "    </tr>\n",
       "  </thead>\n",
       "  <tbody>\n",
       "    <tr>\n",
       "      <th>0</th>\n",
       "      <td>New Explorations into Science, Technology and ...</td>\n",
       "      <td>Manhattan</td>\n",
       "      <td>M022</td>\n",
       "      <td>657</td>\n",
       "      <td>601</td>\n",
       "      <td>601</td>\n",
       "      <td>NaN</td>\n",
       "    </tr>\n",
       "    <tr>\n",
       "      <th>1</th>\n",
       "      <td>Essex Street Academy</td>\n",
       "      <td>Manhattan</td>\n",
       "      <td>M445</td>\n",
       "      <td>395</td>\n",
       "      <td>411</td>\n",
       "      <td>387</td>\n",
       "      <td>78.9</td>\n",
       "    </tr>\n",
       "    <tr>\n",
       "      <th>2</th>\n",
       "      <td>Lower Manhattan Arts Academy</td>\n",
       "      <td>Manhattan</td>\n",
       "      <td>M445</td>\n",
       "      <td>418</td>\n",
       "      <td>428</td>\n",
       "      <td>415</td>\n",
       "      <td>65.1</td>\n",
       "    </tr>\n",
       "    <tr>\n",
       "      <th>3</th>\n",
       "      <td>High School for Dual Language and Asian Studies</td>\n",
       "      <td>Manhattan</td>\n",
       "      <td>M445</td>\n",
       "      <td>613</td>\n",
       "      <td>453</td>\n",
       "      <td>463</td>\n",
       "      <td>95.9</td>\n",
       "    </tr>\n",
       "    <tr>\n",
       "      <th>4</th>\n",
       "      <td>Henry Street School for International Studies</td>\n",
       "      <td>Manhattan</td>\n",
       "      <td>M056</td>\n",
       "      <td>410</td>\n",
       "      <td>406</td>\n",
       "      <td>381</td>\n",
       "      <td>59.7</td>\n",
       "    </tr>\n",
       "  </tbody>\n",
       "</table>\n",
       "</div>"
      ],
      "text/plain": [
       "                                         school_name    borough building_code  \\\n",
       "0  New Explorations into Science, Technology and ...  Manhattan          M022   \n",
       "1                               Essex Street Academy  Manhattan          M445   \n",
       "2                       Lower Manhattan Arts Academy  Manhattan          M445   \n",
       "3    High School for Dual Language and Asian Studies  Manhattan          M445   \n",
       "4      Henry Street School for International Studies  Manhattan          M056   \n",
       "\n",
       "   average_math  average_reading  average_writing  percent_tested  \n",
       "0           657              601              601             NaN  \n",
       "1           395              411              387            78.9  \n",
       "2           418              428              415            65.1  \n",
       "3           613              453              463            95.9  \n",
       "4           410              406              381            59.7  "
      ]
     },
     "execution_count": 34,
     "metadata": {},
     "output_type": "execute_result"
    }
   ],
   "source": [
    "# Re-run this cell \n",
    "import pandas as pd\n",
    "\n",
    "# Read in the data\n",
    "schools = pd.read_csv(r\"C:\\Users\\wende\\Desktop\\DataCamp\\Data Analyst with Python\\5 Exploring NYC Public School Test Results Scores\\workspace\\schools.csv\")\n",
    "\n",
    "# Preview the data\n",
    "schools.head()\n",
    "\n",
    "# Start coding here..."
   ]
  },
  {
   "cell_type": "markdown",
   "id": "216061d1-7fa8-499e-8ec1-55d0f685a364",
   "metadata": {},
   "source": [
    "### Part A"
   ]
  },
  {
   "cell_type": "code",
   "execution_count": 41,
   "id": "e041513b-c355-40e1-83d1-9db307edcabb",
   "metadata": {
    "tags": []
   },
   "outputs": [
    {
     "data": {
      "text/plain": [
       "640.0"
      ]
     },
     "execution_count": 41,
     "metadata": {},
     "output_type": "execute_result"
    }
   ],
   "source": [
    "#80% of 800\n",
    "eighty_pct = 0.8*800\n",
    "eighty_pct"
   ]
  },
  {
   "cell_type": "code",
   "execution_count": 47,
   "id": "49e6e354-0471-4001-bed3-e76ced5399ab",
   "metadata": {
    "tags": []
   },
   "outputs": [
    {
     "data": {
      "text/html": [
       "<div>\n",
       "<style scoped>\n",
       "    .dataframe tbody tr th:only-of-type {\n",
       "        vertical-align: middle;\n",
       "    }\n",
       "\n",
       "    .dataframe tbody tr th {\n",
       "        vertical-align: top;\n",
       "    }\n",
       "\n",
       "    .dataframe thead th {\n",
       "        text-align: right;\n",
       "    }\n",
       "</style>\n",
       "<table border=\"1\" class=\"dataframe\">\n",
       "  <thead>\n",
       "    <tr style=\"text-align: right;\">\n",
       "      <th></th>\n",
       "      <th>school_name</th>\n",
       "      <th>borough</th>\n",
       "      <th>building_code</th>\n",
       "      <th>average_math</th>\n",
       "      <th>average_reading</th>\n",
       "      <th>average_writing</th>\n",
       "      <th>percent_tested</th>\n",
       "    </tr>\n",
       "  </thead>\n",
       "  <tbody>\n",
       "    <tr>\n",
       "      <th>0</th>\n",
       "      <td>New Explorations into Science, Technology and ...</td>\n",
       "      <td>Manhattan</td>\n",
       "      <td>M022</td>\n",
       "      <td>657</td>\n",
       "      <td>601</td>\n",
       "      <td>601</td>\n",
       "      <td>NaN</td>\n",
       "    </tr>\n",
       "    <tr>\n",
       "      <th>45</th>\n",
       "      <td>Eleanor Roosevelt High School</td>\n",
       "      <td>Manhattan</td>\n",
       "      <td>M855</td>\n",
       "      <td>641</td>\n",
       "      <td>617</td>\n",
       "      <td>631</td>\n",
       "      <td>86.0</td>\n",
       "    </tr>\n",
       "    <tr>\n",
       "      <th>68</th>\n",
       "      <td>High School for Mathematics, Science, and Engi...</td>\n",
       "      <td>Manhattan</td>\n",
       "      <td>M812</td>\n",
       "      <td>683</td>\n",
       "      <td>610</td>\n",
       "      <td>596</td>\n",
       "      <td>92.6</td>\n",
       "    </tr>\n",
       "    <tr>\n",
       "      <th>88</th>\n",
       "      <td>Stuyvesant High School</td>\n",
       "      <td>Manhattan</td>\n",
       "      <td>M477</td>\n",
       "      <td>754</td>\n",
       "      <td>697</td>\n",
       "      <td>693</td>\n",
       "      <td>97.4</td>\n",
       "    </tr>\n",
       "    <tr>\n",
       "      <th>93</th>\n",
       "      <td>Staten Island Technical High School</td>\n",
       "      <td>Staten Island</td>\n",
       "      <td>R440</td>\n",
       "      <td>711</td>\n",
       "      <td>660</td>\n",
       "      <td>670</td>\n",
       "      <td>99.7</td>\n",
       "    </tr>\n",
       "  </tbody>\n",
       "</table>\n",
       "</div>"
      ],
      "text/plain": [
       "                                          school_name        borough  \\\n",
       "0   New Explorations into Science, Technology and ...      Manhattan   \n",
       "45                      Eleanor Roosevelt High School      Manhattan   \n",
       "68  High School for Mathematics, Science, and Engi...      Manhattan   \n",
       "88                             Stuyvesant High School      Manhattan   \n",
       "93                Staten Island Technical High School  Staten Island   \n",
       "\n",
       "   building_code  average_math  average_reading  average_writing  \\\n",
       "0           M022           657              601              601   \n",
       "45          M855           641              617              631   \n",
       "68          M812           683              610              596   \n",
       "88          M477           754              697              693   \n",
       "93          R440           711              660              670   \n",
       "\n",
       "    percent_tested  \n",
       "0              NaN  \n",
       "45            86.0  \n",
       "68            92.6  \n",
       "88            97.4  \n",
       "93            99.7  "
      ]
     },
     "execution_count": 47,
     "metadata": {},
     "output_type": "execute_result"
    }
   ],
   "source": [
    "#sorting 80% of best maths\n",
    "\n",
    "maths=schools[schools[\"average_math\"] >= eighty_pct]\n",
    "maths.head()"
   ]
  },
  {
   "cell_type": "markdown",
   "id": "5e90dd59-fa6f-403b-bc6b-b48077f0f52c",
   "metadata": {},
   "source": [
    "##### <span style=\"color:blue;\"> Testing start</span>"
   ]
  },
  {
   "cell_type": "code",
   "execution_count": 74,
   "id": "d9743950-e6ac-4a49-ae1c-2b60c7332939",
   "metadata": {
    "tags": []
   },
   "outputs": [
    {
     "data": {
      "text/plain": [
       "45     641\n",
       "0      657\n",
       "174    669\n",
       "333    680\n",
       "280    682\n",
       "68     683\n",
       "365    701\n",
       "93     711\n",
       "170    714\n",
       "88     754\n",
       "Name: average_math, dtype: int64"
      ]
     },
     "execution_count": 74,
     "metadata": {},
     "output_type": "execute_result"
    }
   ],
   "source": [
    "maths[\"average_math\"].sort_values()"
   ]
  },
  {
   "cell_type": "markdown",
   "id": "3b4e3efa-93aa-473e-ba01-dcbefa0abb07",
   "metadata": {
    "tags": []
   },
   "source": [
    "##### <span style=\"color:blue;\"> Testing end</span>"
   ]
  },
  {
   "cell_type": "markdown",
   "id": "3e0af9e2-e0ed-40bc-81c3-790b83c4e377",
   "metadata": {},
   "source": [
    "**Since we are selecting 2 columns from maths df, sort_values requires `by` argument. E.g by=\"average_math\".**"
   ]
  },
  {
   "cell_type": "code",
   "execution_count": 91,
   "id": "8c318b5e-0ad8-4487-8f73-8fdfcebd08ff",
   "metadata": {
    "tags": []
   },
   "outputs": [
    {
     "data": {
      "text/html": [
       "<div>\n",
       "<style scoped>\n",
       "    .dataframe tbody tr th:only-of-type {\n",
       "        vertical-align: middle;\n",
       "    }\n",
       "\n",
       "    .dataframe tbody tr th {\n",
       "        vertical-align: top;\n",
       "    }\n",
       "\n",
       "    .dataframe thead th {\n",
       "        text-align: right;\n",
       "    }\n",
       "</style>\n",
       "<table border=\"1\" class=\"dataframe\">\n",
       "  <thead>\n",
       "    <tr style=\"text-align: right;\">\n",
       "      <th></th>\n",
       "      <th>school_name</th>\n",
       "      <th>average_math</th>\n",
       "    </tr>\n",
       "  </thead>\n",
       "  <tbody>\n",
       "    <tr>\n",
       "      <th>88</th>\n",
       "      <td>Stuyvesant High School</td>\n",
       "      <td>754</td>\n",
       "    </tr>\n",
       "    <tr>\n",
       "      <th>170</th>\n",
       "      <td>Bronx High School of Science</td>\n",
       "      <td>714</td>\n",
       "    </tr>\n",
       "    <tr>\n",
       "      <th>93</th>\n",
       "      <td>Staten Island Technical High School</td>\n",
       "      <td>711</td>\n",
       "    </tr>\n",
       "    <tr>\n",
       "      <th>365</th>\n",
       "      <td>Queens High School for the Sciences at York Co...</td>\n",
       "      <td>701</td>\n",
       "    </tr>\n",
       "    <tr>\n",
       "      <th>68</th>\n",
       "      <td>High School for Mathematics, Science, and Engi...</td>\n",
       "      <td>683</td>\n",
       "    </tr>\n",
       "  </tbody>\n",
       "</table>\n",
       "</div>"
      ],
      "text/plain": [
       "                                           school_name  average_math\n",
       "88                              Stuyvesant High School           754\n",
       "170                       Bronx High School of Science           714\n",
       "93                 Staten Island Technical High School           711\n",
       "365  Queens High School for the Sciences at York Co...           701\n",
       "68   High School for Mathematics, Science, and Engi...           683"
      ]
     },
     "execution_count": 91,
     "metadata": {},
     "output_type": "execute_result"
    }
   ],
   "source": [
    "#sorting best schools from maths\n",
    "best_math_schools = maths[[\"school_name\",\"average_math\"]].sort_values(by=\"average_math\",ascending=False)\n",
    "best_math_schools.head()"
   ]
  },
  {
   "cell_type": "markdown",
   "id": "dbad25ac-2765-45f2-84c6-88d19ed3678b",
   "metadata": {},
   "source": [
    "### Part B"
   ]
  },
  {
   "cell_type": "markdown",
   "id": "5fa79c79-8888-4843-80fd-1006e20ee047",
   "metadata": {},
   "source": [
    "##### <span style=\"color:green;\"> Total SAT: </span>\n",
    "maths + reading + writing"
   ]
  },
  {
   "cell_type": "code",
   "execution_count": 106,
   "id": "1623cfef-0fe7-497d-b2b2-7fe0aa7f45a5",
   "metadata": {
    "tags": []
   },
   "outputs": [
    {
     "data": {
      "text/html": [
       "<div>\n",
       "<style scoped>\n",
       "    .dataframe tbody tr th:only-of-type {\n",
       "        vertical-align: middle;\n",
       "    }\n",
       "\n",
       "    .dataframe tbody tr th {\n",
       "        vertical-align: top;\n",
       "    }\n",
       "\n",
       "    .dataframe thead th {\n",
       "        text-align: right;\n",
       "    }\n",
       "</style>\n",
       "<table border=\"1\" class=\"dataframe\">\n",
       "  <thead>\n",
       "    <tr style=\"text-align: right;\">\n",
       "      <th></th>\n",
       "      <th>school_name</th>\n",
       "      <th>borough</th>\n",
       "      <th>building_code</th>\n",
       "      <th>average_math</th>\n",
       "      <th>average_reading</th>\n",
       "      <th>average_writing</th>\n",
       "      <th>percent_tested</th>\n",
       "      <th>Total_SAT</th>\n",
       "      <th>total_SAT</th>\n",
       "    </tr>\n",
       "  </thead>\n",
       "  <tbody>\n",
       "    <tr>\n",
       "      <th>0</th>\n",
       "      <td>New Explorations into Science, Technology and ...</td>\n",
       "      <td>Manhattan</td>\n",
       "      <td>M022</td>\n",
       "      <td>657</td>\n",
       "      <td>601</td>\n",
       "      <td>601</td>\n",
       "      <td>NaN</td>\n",
       "      <td>1859</td>\n",
       "      <td>1859</td>\n",
       "    </tr>\n",
       "    <tr>\n",
       "      <th>1</th>\n",
       "      <td>Essex Street Academy</td>\n",
       "      <td>Manhattan</td>\n",
       "      <td>M445</td>\n",
       "      <td>395</td>\n",
       "      <td>411</td>\n",
       "      <td>387</td>\n",
       "      <td>78.9</td>\n",
       "      <td>1193</td>\n",
       "      <td>1193</td>\n",
       "    </tr>\n",
       "    <tr>\n",
       "      <th>2</th>\n",
       "      <td>Lower Manhattan Arts Academy</td>\n",
       "      <td>Manhattan</td>\n",
       "      <td>M445</td>\n",
       "      <td>418</td>\n",
       "      <td>428</td>\n",
       "      <td>415</td>\n",
       "      <td>65.1</td>\n",
       "      <td>1261</td>\n",
       "      <td>1261</td>\n",
       "    </tr>\n",
       "    <tr>\n",
       "      <th>3</th>\n",
       "      <td>High School for Dual Language and Asian Studies</td>\n",
       "      <td>Manhattan</td>\n",
       "      <td>M445</td>\n",
       "      <td>613</td>\n",
       "      <td>453</td>\n",
       "      <td>463</td>\n",
       "      <td>95.9</td>\n",
       "      <td>1529</td>\n",
       "      <td>1529</td>\n",
       "    </tr>\n",
       "    <tr>\n",
       "      <th>4</th>\n",
       "      <td>Henry Street School for International Studies</td>\n",
       "      <td>Manhattan</td>\n",
       "      <td>M056</td>\n",
       "      <td>410</td>\n",
       "      <td>406</td>\n",
       "      <td>381</td>\n",
       "      <td>59.7</td>\n",
       "      <td>1197</td>\n",
       "      <td>1197</td>\n",
       "    </tr>\n",
       "  </tbody>\n",
       "</table>\n",
       "</div>"
      ],
      "text/plain": [
       "                                         school_name    borough building_code  \\\n",
       "0  New Explorations into Science, Technology and ...  Manhattan          M022   \n",
       "1                               Essex Street Academy  Manhattan          M445   \n",
       "2                       Lower Manhattan Arts Academy  Manhattan          M445   \n",
       "3    High School for Dual Language and Asian Studies  Manhattan          M445   \n",
       "4      Henry Street School for International Studies  Manhattan          M056   \n",
       "\n",
       "   average_math  average_reading  average_writing  percent_tested  Total_SAT  \\\n",
       "0           657              601              601             NaN       1859   \n",
       "1           395              411              387            78.9       1193   \n",
       "2           418              428              415            65.1       1261   \n",
       "3           613              453              463            95.9       1529   \n",
       "4           410              406              381            59.7       1197   \n",
       "\n",
       "   total_SAT  \n",
       "0       1859  \n",
       "1       1193  \n",
       "2       1261  \n",
       "3       1529  \n",
       "4       1197  "
      ]
     },
     "execution_count": 106,
     "metadata": {},
     "output_type": "execute_result"
    }
   ],
   "source": [
    "#creating a new column name Total_SAT\n",
    "schools[\"total_SAT\"] = schools[\"average_math\"] + schools[\"average_reading\"] + schools[\"average_writing\"]\n",
    "schools.head()"
   ]
  },
  {
   "cell_type": "code",
   "execution_count": 114,
   "id": "6ed1cf21-3e7f-40de-b733-bc32226809f0",
   "metadata": {
    "tags": []
   },
   "outputs": [
    {
     "data": {
      "text/html": [
       "<div>\n",
       "<style scoped>\n",
       "    .dataframe tbody tr th:only-of-type {\n",
       "        vertical-align: middle;\n",
       "    }\n",
       "\n",
       "    .dataframe tbody tr th {\n",
       "        vertical-align: top;\n",
       "    }\n",
       "\n",
       "    .dataframe thead th {\n",
       "        text-align: right;\n",
       "    }\n",
       "</style>\n",
       "<table border=\"1\" class=\"dataframe\">\n",
       "  <thead>\n",
       "    <tr style=\"text-align: right;\">\n",
       "      <th></th>\n",
       "      <th>school_name</th>\n",
       "      <th>total_SAT</th>\n",
       "    </tr>\n",
       "  </thead>\n",
       "  <tbody>\n",
       "    <tr>\n",
       "      <th>88</th>\n",
       "      <td>Stuyvesant High School</td>\n",
       "      <td>2144</td>\n",
       "    </tr>\n",
       "    <tr>\n",
       "      <th>170</th>\n",
       "      <td>Bronx High School of Science</td>\n",
       "      <td>2041</td>\n",
       "    </tr>\n",
       "    <tr>\n",
       "      <th>93</th>\n",
       "      <td>Staten Island Technical High School</td>\n",
       "      <td>2041</td>\n",
       "    </tr>\n",
       "    <tr>\n",
       "      <th>174</th>\n",
       "      <td>High School of American Studies at Lehman College</td>\n",
       "      <td>2013</td>\n",
       "    </tr>\n",
       "    <tr>\n",
       "      <th>333</th>\n",
       "      <td>Townsend Harris High School</td>\n",
       "      <td>1981</td>\n",
       "    </tr>\n",
       "    <tr>\n",
       "      <th>365</th>\n",
       "      <td>Queens High School for the Sciences at York Co...</td>\n",
       "      <td>1947</td>\n",
       "    </tr>\n",
       "    <tr>\n",
       "      <th>5</th>\n",
       "      <td>Bard High School Early College</td>\n",
       "      <td>1914</td>\n",
       "    </tr>\n",
       "    <tr>\n",
       "      <th>280</th>\n",
       "      <td>Brooklyn Technical High School</td>\n",
       "      <td>1896</td>\n",
       "    </tr>\n",
       "    <tr>\n",
       "      <th>45</th>\n",
       "      <td>Eleanor Roosevelt High School</td>\n",
       "      <td>1889</td>\n",
       "    </tr>\n",
       "    <tr>\n",
       "      <th>68</th>\n",
       "      <td>High School for Mathematics, Science, and Engi...</td>\n",
       "      <td>1889</td>\n",
       "    </tr>\n",
       "  </tbody>\n",
       "</table>\n",
       "</div>"
      ],
      "text/plain": [
       "                                           school_name  total_SAT\n",
       "88                              Stuyvesant High School       2144\n",
       "170                       Bronx High School of Science       2041\n",
       "93                 Staten Island Technical High School       2041\n",
       "174  High School of American Studies at Lehman College       2013\n",
       "333                        Townsend Harris High School       1981\n",
       "365  Queens High School for the Sciences at York Co...       1947\n",
       "5                       Bard High School Early College       1914\n",
       "280                     Brooklyn Technical High School       1896\n",
       "45                       Eleanor Roosevelt High School       1889\n",
       "68   High School for Mathematics, Science, and Engi...       1889"
      ]
     },
     "execution_count": 114,
     "metadata": {},
     "output_type": "execute_result"
    }
   ],
   "source": [
    "top_10_schools = schools[[\"school_name\",\"total_SAT\"]].sort_values(by=\"total_SAT\",ascending=False)\n",
    "top_10_schools.head(10)"
   ]
  },
  {
   "cell_type": "markdown",
   "id": "4e347c8b-2d2a-46de-83cf-b1d14ea78a5c",
   "metadata": {
    "tags": []
   },
   "source": [
    "### Part C"
   ]
  },
  {
   "cell_type": "markdown",
   "id": "8f4dee0e-817b-4605-bdc0-653a4abd9aac",
   "metadata": {
    "tags": []
   },
   "source": [
    "##### <span style=\"color:blue;\"> Testing start</span>"
   ]
  },
  {
   "cell_type": "markdown",
   "id": "a2076589-ef70-464c-9761-267fa2ceadc9",
   "metadata": {
    "tags": []
   },
   "source": [
    "**to calculate count,std,mean in `1 single line` use agg(). eg agg([\"count\",\"mean\",\"std\"])** `Do note the [ ] for multiple selection in agg ( )`"
   ]
  },
  {
   "cell_type": "code",
   "execution_count": 132,
   "id": "dd59745d-24ca-439b-b433-cef0963ca1c0",
   "metadata": {
    "tags": []
   },
   "outputs": [
    {
     "data": {
      "text/plain": [
       "count     375.000000\n",
       "mean     1275.906667\n",
       "std       194.906283\n",
       "Name: total_SAT, dtype: float64"
      ]
     },
     "execution_count": 132,
     "metadata": {},
     "output_type": "execute_result"
    }
   ],
   "source": [
    "schools[\"total_SAT\"].agg([\"count\",\"mean\",\"std\"])"
   ]
  },
  {
   "cell_type": "markdown",
   "id": "1e1c5d9e-6d9a-4b45-a948-e827195c5b2c",
   "metadata": {},
   "source": [
    "**To see how repeated names in borough columns**"
   ]
  },
  {
   "cell_type": "code",
   "execution_count": 176,
   "id": "d776690b-d767-427e-8da6-05d2e36e3f44",
   "metadata": {
    "tags": []
   },
   "outputs": [
    {
     "data": {
      "text/plain": [
       "borough\n",
       "Brooklyn         109\n",
       "Bronx             98\n",
       "Manhattan         89\n",
       "Queens            69\n",
       "Staten Island     10\n",
       "Name: count, dtype: int64"
      ]
     },
     "execution_count": 176,
     "metadata": {},
     "output_type": "execute_result"
    }
   ],
   "source": [
    "schools[\"borough\"].value_counts()"
   ]
  },
  {
   "cell_type": "markdown",
   "id": "87562be6-bf31-4e32-948b-c2339525226c",
   "metadata": {
    "tags": []
   },
   "source": [
    "##### <span style=\"color:blue;\"> Testing end</span>"
   ]
  },
  {
   "cell_type": "markdown",
   "id": "f60aa275-1b4f-407e-9107-15a4c20ed3e9",
   "metadata": {},
   "source": [
    "### <i>.groupby()</i>\n",
    "\n",
    "A groupby operation involves some combination of splitting the object, applying a function, and combining the results. This can be used to group large amounts of data and compute operations on these groups."
   ]
  },
  {
   "cell_type": "code",
   "execution_count": 162,
   "id": "2bd1181c-d09b-4098-9956-a2c75ecbcf64",
   "metadata": {
    "tags": []
   },
   "outputs": [
    {
     "data": {
      "text/html": [
       "<div>\n",
       "<style scoped>\n",
       "    .dataframe tbody tr th:only-of-type {\n",
       "        vertical-align: middle;\n",
       "    }\n",
       "\n",
       "    .dataframe tbody tr th {\n",
       "        vertical-align: top;\n",
       "    }\n",
       "\n",
       "    .dataframe thead th {\n",
       "        text-align: right;\n",
       "    }\n",
       "</style>\n",
       "<table border=\"1\" class=\"dataframe\">\n",
       "  <thead>\n",
       "    <tr style=\"text-align: right;\">\n",
       "      <th></th>\n",
       "      <th>count</th>\n",
       "      <th>mean</th>\n",
       "      <th>std</th>\n",
       "    </tr>\n",
       "    <tr>\n",
       "      <th>borough</th>\n",
       "      <th></th>\n",
       "      <th></th>\n",
       "      <th></th>\n",
       "    </tr>\n",
       "  </thead>\n",
       "  <tbody>\n",
       "    <tr>\n",
       "      <th>Bronx</th>\n",
       "      <td>98</td>\n",
       "      <td>1202.72</td>\n",
       "      <td>150.39</td>\n",
       "    </tr>\n",
       "    <tr>\n",
       "      <th>Brooklyn</th>\n",
       "      <td>109</td>\n",
       "      <td>1230.26</td>\n",
       "      <td>154.87</td>\n",
       "    </tr>\n",
       "    <tr>\n",
       "      <th>Manhattan</th>\n",
       "      <td>89</td>\n",
       "      <td>1340.13</td>\n",
       "      <td>230.29</td>\n",
       "    </tr>\n",
       "    <tr>\n",
       "      <th>Queens</th>\n",
       "      <td>69</td>\n",
       "      <td>1345.48</td>\n",
       "      <td>195.25</td>\n",
       "    </tr>\n",
       "    <tr>\n",
       "      <th>Staten Island</th>\n",
       "      <td>10</td>\n",
       "      <td>1439.00</td>\n",
       "      <td>222.30</td>\n",
       "    </tr>\n",
       "  </tbody>\n",
       "</table>\n",
       "</div>"
      ],
      "text/plain": [
       "               count     mean     std\n",
       "borough                              \n",
       "Bronx             98  1202.72  150.39\n",
       "Brooklyn         109  1230.26  154.87\n",
       "Manhattan         89  1340.13  230.29\n",
       "Queens            69  1345.48  195.25\n",
       "Staten Island     10  1439.00  222.30"
      ]
     },
     "execution_count": 162,
     "metadata": {},
     "output_type": "execute_result"
    }
   ],
   "source": [
    "#grouping by borough with total_sat\n",
    "boroughs = schools.groupby(\"borough\")[\"total_SAT\"].agg([\"count\",\"mean\",\"std\"]).round(2)\n",
    "boroughs"
   ]
  },
  {
   "cell_type": "markdown",
   "id": "ef0056e0-7d47-4e19-8e61-507325b086d8",
   "metadata": {
    "tags": []
   },
   "source": [
    "##### <span style=\"color:magenta;\"> Code explanation</span>\n",
    "\n",
    "- using groupby(\"borough\"), the borough will be the `index`\n",
    "- then `.agg([\"count\",\"mean\",\"std\"])` calculations will be performed on total_SAT columns"
   ]
  },
  {
   "cell_type": "code",
   "execution_count": 238,
   "id": "81930b1b-f6eb-4da7-93cb-f2754716d914",
   "metadata": {
    "tags": []
   },
   "outputs": [
    {
     "data": {
      "text/html": [
       "<div>\n",
       "<style scoped>\n",
       "    .dataframe tbody tr th:only-of-type {\n",
       "        vertical-align: middle;\n",
       "    }\n",
       "\n",
       "    .dataframe tbody tr th {\n",
       "        vertical-align: top;\n",
       "    }\n",
       "\n",
       "    .dataframe thead th {\n",
       "        text-align: right;\n",
       "    }\n",
       "</style>\n",
       "<table border=\"1\" class=\"dataframe\">\n",
       "  <thead>\n",
       "    <tr style=\"text-align: right;\">\n",
       "      <th></th>\n",
       "      <th>count</th>\n",
       "      <th>mean</th>\n",
       "      <th>std</th>\n",
       "    </tr>\n",
       "    <tr>\n",
       "      <th>borough</th>\n",
       "      <th></th>\n",
       "      <th></th>\n",
       "      <th></th>\n",
       "    </tr>\n",
       "  </thead>\n",
       "  <tbody>\n",
       "    <tr>\n",
       "      <th>Manhattan</th>\n",
       "      <td>89</td>\n",
       "      <td>1340.13</td>\n",
       "      <td>230.29</td>\n",
       "    </tr>\n",
       "    <tr>\n",
       "      <th>Staten Island</th>\n",
       "      <td>10</td>\n",
       "      <td>1439.00</td>\n",
       "      <td>222.30</td>\n",
       "    </tr>\n",
       "    <tr>\n",
       "      <th>Queens</th>\n",
       "      <td>69</td>\n",
       "      <td>1345.48</td>\n",
       "      <td>195.25</td>\n",
       "    </tr>\n",
       "    <tr>\n",
       "      <th>Brooklyn</th>\n",
       "      <td>109</td>\n",
       "      <td>1230.26</td>\n",
       "      <td>154.87</td>\n",
       "    </tr>\n",
       "    <tr>\n",
       "      <th>Bronx</th>\n",
       "      <td>98</td>\n",
       "      <td>1202.72</td>\n",
       "      <td>150.39</td>\n",
       "    </tr>\n",
       "  </tbody>\n",
       "</table>\n",
       "</div>"
      ],
      "text/plain": [
       "               count     mean     std\n",
       "borough                              \n",
       "Manhattan         89  1340.13  230.29\n",
       "Staten Island     10  1439.00  222.30\n",
       "Queens            69  1345.48  195.25\n",
       "Brooklyn         109  1230.26  154.87\n",
       "Bronx             98  1202.72  150.39"
      ]
     },
     "execution_count": 238,
     "metadata": {},
     "output_type": "execute_result"
    }
   ],
   "source": [
    "## sorting std in boroughs df in descending order\n",
    "\n",
    "max_borough_std = boroughs[[\"count\",\"mean\",\"std\"]].sort_values(by=\"std\",ascending=False)\n",
    "max_borough_std"
   ]
  },
  {
   "cell_type": "code",
   "execution_count": 260,
   "id": "12c740db-4eed-4c7a-a8b2-a1ccb2ddce91",
   "metadata": {
    "tags": []
   },
   "outputs": [
    {
     "data": {
      "text/html": [
       "<div>\n",
       "<style scoped>\n",
       "    .dataframe tbody tr th:only-of-type {\n",
       "        vertical-align: middle;\n",
       "    }\n",
       "\n",
       "    .dataframe tbody tr th {\n",
       "        vertical-align: top;\n",
       "    }\n",
       "\n",
       "    .dataframe thead th {\n",
       "        text-align: right;\n",
       "    }\n",
       "</style>\n",
       "<table border=\"1\" class=\"dataframe\">\n",
       "  <thead>\n",
       "    <tr style=\"text-align: right;\">\n",
       "      <th></th>\n",
       "      <th>num_schools</th>\n",
       "      <th>average_SAT</th>\n",
       "      <th>std_SAT</th>\n",
       "    </tr>\n",
       "    <tr>\n",
       "      <th>borough</th>\n",
       "      <th></th>\n",
       "      <th></th>\n",
       "      <th></th>\n",
       "    </tr>\n",
       "  </thead>\n",
       "  <tbody>\n",
       "    <tr>\n",
       "      <th>Manhattan</th>\n",
       "      <td>89</td>\n",
       "      <td>1340.13</td>\n",
       "      <td>230.29</td>\n",
       "    </tr>\n",
       "    <tr>\n",
       "      <th>Staten Island</th>\n",
       "      <td>10</td>\n",
       "      <td>1439.00</td>\n",
       "      <td>230.29</td>\n",
       "    </tr>\n",
       "    <tr>\n",
       "      <th>Queens</th>\n",
       "      <td>69</td>\n",
       "      <td>1345.48</td>\n",
       "      <td>230.29</td>\n",
       "    </tr>\n",
       "    <tr>\n",
       "      <th>Brooklyn</th>\n",
       "      <td>109</td>\n",
       "      <td>1230.26</td>\n",
       "      <td>230.29</td>\n",
       "    </tr>\n",
       "    <tr>\n",
       "      <th>Bronx</th>\n",
       "      <td>98</td>\n",
       "      <td>1202.72</td>\n",
       "      <td>230.29</td>\n",
       "    </tr>\n",
       "  </tbody>\n",
       "</table>\n",
       "</div>"
      ],
      "text/plain": [
       "               num_schools  average_SAT  std_SAT\n",
       "borough                                         \n",
       "Manhattan               89      1340.13   230.29\n",
       "Staten Island           10      1439.00   230.29\n",
       "Queens                  69      1345.48   230.29\n",
       "Brooklyn               109      1230.26   230.29\n",
       "Bronx                   98      1202.72   230.29"
      ]
     },
     "execution_count": 260,
     "metadata": {},
     "output_type": "execute_result"
    }
   ],
   "source": [
    "max_borough_std = max_borough_std.rename(columns={\"count\":\"num_schools\", \"mean\":\"average_SAT\", \"std\":\"std_SAT\"})\n",
    "#max_borough_std.reset_index(inplace=True)\n",
    "max_borough_std.head()"
   ]
  },
  {
   "cell_type": "markdown",
   "id": "b2a28c3a-3376-4c43-b5b8-c7ecd63fe1e6",
   "metadata": {
    "tags": []
   },
   "source": [
    "**Ans is Manhattan**"
   ]
  },
  {
   "cell_type": "markdown",
   "id": "9ec925e5-b035-4bc5-ab22-e581fe8b84a8",
   "metadata": {},
   "source": [
    "### Alternative answer to show only the max std in df"
   ]
  },
  {
   "cell_type": "code",
   "execution_count": 270,
   "id": "cb053a59-c6f3-48de-a9c4-50a86426c604",
   "metadata": {
    "tags": []
   },
   "outputs": [
    {
     "data": {
      "text/html": [
       "<div>\n",
       "<style scoped>\n",
       "    .dataframe tbody tr th:only-of-type {\n",
       "        vertical-align: middle;\n",
       "    }\n",
       "\n",
       "    .dataframe tbody tr th {\n",
       "        vertical-align: top;\n",
       "    }\n",
       "\n",
       "    .dataframe thead th {\n",
       "        text-align: right;\n",
       "    }\n",
       "</style>\n",
       "<table border=\"1\" class=\"dataframe\">\n",
       "  <thead>\n",
       "    <tr style=\"text-align: right;\">\n",
       "      <th></th>\n",
       "      <th>borough</th>\n",
       "      <th>num_schools</th>\n",
       "      <th>average_SAT</th>\n",
       "      <th>std_SAT</th>\n",
       "    </tr>\n",
       "  </thead>\n",
       "  <tbody>\n",
       "    <tr>\n",
       "      <th>0</th>\n",
       "      <td>Manhattan</td>\n",
       "      <td>89</td>\n",
       "      <td>1340.13</td>\n",
       "      <td>230.29</td>\n",
       "    </tr>\n",
       "  </tbody>\n",
       "</table>\n",
       "</div>"
      ],
      "text/plain": [
       "     borough  num_schools  average_SAT  std_SAT\n",
       "0  Manhattan           89      1340.13   230.29"
      ]
     },
     "execution_count": 270,
     "metadata": {},
     "output_type": "execute_result"
    }
   ],
   "source": [
    "value = boroughs[\"std\"].max()\n",
    "largest_std_dev = boroughs[boroughs[\"std\"] == value ] \n",
    "largest_std_dev = largest_std_dev.rename(columns={\"count\":\"num_schools\", \"mean\":\"average_SAT\", \"std\":\"std_SAT\"})\n",
    "largest_std_dev.reset_index(inplace=True)\n",
    "largest_std_dev.head()"
   ]
  },
  {
   "cell_type": "markdown",
   "id": "6b213f82-c819-401d-8378-2dd486edc6b7",
   "metadata": {
    "tags": []
   },
   "source": [
    "## <span style=\"color:red;\"> DataCamp solution</span>"
   ]
  },
  {
   "cell_type": "code",
   "execution_count": 32,
   "id": "69cbd237-0140-4bb6-81be-367d0d55354e",
   "metadata": {
    "tags": []
   },
   "outputs": [
    {
     "data": {
      "text/html": [
       "<div>\n",
       "<style scoped>\n",
       "    .dataframe tbody tr th:only-of-type {\n",
       "        vertical-align: middle;\n",
       "    }\n",
       "\n",
       "    .dataframe tbody tr th {\n",
       "        vertical-align: top;\n",
       "    }\n",
       "\n",
       "    .dataframe thead th {\n",
       "        text-align: right;\n",
       "    }\n",
       "</style>\n",
       "<table border=\"1\" class=\"dataframe\">\n",
       "  <thead>\n",
       "    <tr style=\"text-align: right;\">\n",
       "      <th></th>\n",
       "      <th>borough</th>\n",
       "      <th>num_schools</th>\n",
       "      <th>average_SAT</th>\n",
       "      <th>std_SAT</th>\n",
       "    </tr>\n",
       "  </thead>\n",
       "  <tbody>\n",
       "    <tr>\n",
       "      <th>0</th>\n",
       "      <td>Manhattan</td>\n",
       "      <td>89</td>\n",
       "      <td>1340.13</td>\n",
       "      <td>230.29</td>\n",
       "    </tr>\n",
       "  </tbody>\n",
       "</table>\n",
       "</div>"
      ],
      "text/plain": [
       "     borough  num_schools  average_SAT  std_SAT\n",
       "0  Manhattan           89      1340.13   230.29"
      ]
     },
     "execution_count": 32,
     "metadata": {},
     "output_type": "execute_result"
    }
   ],
   "source": [
    "# Start coding here...\n",
    "\n",
    "#Which NYC schools have the best math results?\n",
    "best_math_schools = schools[schools[\"average_math\"]>=640][[\"school_name\",\"average_math\"]].sort_values(\"average_math\",ascending=False)\n",
    "\n",
    "#What are the top 10 performing schools based on the combined SAT scores?\n",
    "schools[\"total_SAT\"] = schools[\"average_math\"] + schools[\"average_reading\"] + schools[\"average_writing\"]\n",
    "top_10_schools = schools[[\"school_name\",\"total_SAT\"]].sort_values(\"total_SAT\",ascending=False).head(10)\n",
    "\n",
    "#Which single borough has the largest standard deviation in the combined SAT score?\n",
    "boroughs = schools.groupby(\"borough\")[\"total_SAT\"].agg([\"count\",\"mean\",\"std\"]).round(2)\n",
    "value = boroughs[\"std\"].max()\n",
    "largest_std_dev = boroughs[boroughs[\"std\"] == value ] \n",
    "largest_std_dev = largest_std_dev.rename(columns={\"count\":\"num_schools\", \"mean\":\"average_SAT\", \"std\":\"std_SAT\"})\n",
    "largest_std_dev.reset_index(inplace=True)\n",
    "largest_std_dev.head()\n",
    "\n",
    "#Add as many cells as you like..."
   ]
  }
 ],
 "metadata": {
  "editor": "DataCamp Workspace",
  "kernelspec": {
   "display_name": "Python 3 (ipykernel)",
   "language": "python",
   "name": "python3"
  },
  "language_info": {
   "codemirror_mode": {
    "name": "ipython",
    "version": 3
   },
   "file_extension": ".py",
   "mimetype": "text/x-python",
   "name": "python",
   "nbconvert_exporter": "python",
   "pygments_lexer": "ipython3",
   "version": "3.11.9"
  }
 },
 "nbformat": 4,
 "nbformat_minor": 5
}
