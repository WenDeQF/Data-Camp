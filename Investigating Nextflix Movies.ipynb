{
 "cells": [
  {
   "cell_type": "markdown",
   "id": "33f4a850-97b3-4bbf-a5f4-fa880ee0c089",
   "metadata": {},
   "source": [
    "# Data Analyst with Python Project\n",
    "\n",
    "# Investigating Nextflix Movies"
   ]
  },
  {
   "cell_type": "markdown",
   "id": "d5d13e8d-c8b8-4e17-b6b7-44166f45d251",
   "metadata": {
    "tags": []
   },
   "source": [
    "## Instruction\n",
    "\n",
    "Perform exploratory data analysis on the `netflix_data.csv` data to understand more about movies from the 1990s decade.\n",
    "\n",
    "- What was the most frequent <span style=\"color:green;\">movie</span> duration in the 1990s? Save an approximate answer as an integer called `duration`.\n",
    "\n",
    "- A movie is considered short if it is less than 90 minutes. Count the number of <span style=\"color:green;\">short action movies</span> released in the 1990s and save this integer as `short_movie_count`.\n",
    "\n",
    "Feel free to experiment after submitting the project!"
   ]
  },
  {
   "cell_type": "markdown",
   "id": "0e04ed1b-88ee-4624-a486-a8326f7758c6",
   "metadata": {},
   "source": [
    "**Netflix**! What started in 1997 as a DVD rental service has since exploded into one of the largest entertainment and media companies.\n",
    "\n",
    "Given the large number of movies and series available on the platform, it is a perfect opportunity to flex your exploratory data analysis skills and dive into the entertainment industry.\n",
    "\n",
    "You work for a production company that specializes in nostalgic styles. You want to do some research on movies released in the 1990's. You'll delve into Netflix data and perform exploratory data analysis to better understand this awesome movie decade!\n",
    "\n",
    "You have been supplied with the dataset `netflix_data.csv`, along with the following table detailing the column names and descriptions. Feel free to experiment further after submitting!\n",
    "\n",
    "## The data\n",
    "#### **netflix_data.csv**\n",
    "| Column | Description |\n",
    "|--------|-------------|\n",
    "| `show_id` | The ID of the show |\n",
    "| `type` | Type of show |\n",
    "| `title` | Title of the show |\n",
    "| `director` | Director of the show |\n",
    "| `cast` | Cast of the show |\n",
    "| `country` | Country of origin |\n",
    "| `date_added` | Date added to Netflix |\n",
    "| `release_year` | Year of Netflix release |\n",
    "| `duration` | Duration of the show in minutes |\n",
    "| `description` | Description of the show |\n",
    "| `genre` | Show genre |"
   ]
  },
  {
   "cell_type": "code",
   "execution_count": 38,
   "id": "8865fd63-4120-4deb-b0ea-32c65ffc84b3",
   "metadata": {
    "tags": []
   },
   "outputs": [],
   "source": [
    "# Importing pandas and matplotlib\n",
    "import pandas as pd\n",
    "import matplotlib.pyplot as plt\n",
    "\n",
    "# Read in the Netflix CSV as a DataFrame\n",
    "netflix_df = pd.read_csv(r\"C:\\Users\\wende\\Desktop\\DataCamp\\Data Analyst with Python\\3 Investigating Nextflix Movies\\workspace\\netflix_data.csv\")"
   ]
  },
  {
   "cell_type": "code",
   "execution_count": 40,
   "id": "ee8ef80a-0fe5-4843-927c-279292a89b4e",
   "metadata": {
    "tags": []
   },
   "outputs": [
    {
     "data": {
      "text/html": [
       "<div>\n",
       "<style scoped>\n",
       "    .dataframe tbody tr th:only-of-type {\n",
       "        vertical-align: middle;\n",
       "    }\n",
       "\n",
       "    .dataframe tbody tr th {\n",
       "        vertical-align: top;\n",
       "    }\n",
       "\n",
       "    .dataframe thead th {\n",
       "        text-align: right;\n",
       "    }\n",
       "</style>\n",
       "<table border=\"1\" class=\"dataframe\">\n",
       "  <thead>\n",
       "    <tr style=\"text-align: right;\">\n",
       "      <th></th>\n",
       "      <th>show_id</th>\n",
       "      <th>type</th>\n",
       "      <th>title</th>\n",
       "      <th>director</th>\n",
       "      <th>cast</th>\n",
       "      <th>country</th>\n",
       "      <th>date_added</th>\n",
       "      <th>release_year</th>\n",
       "      <th>duration</th>\n",
       "      <th>description</th>\n",
       "      <th>genre</th>\n",
       "    </tr>\n",
       "  </thead>\n",
       "  <tbody>\n",
       "    <tr>\n",
       "      <th>0</th>\n",
       "      <td>s2</td>\n",
       "      <td>Movie</td>\n",
       "      <td>7:19</td>\n",
       "      <td>Jorge Michel Grau</td>\n",
       "      <td>Demián Bichir, Héctor Bonilla, Oscar Serrano, ...</td>\n",
       "      <td>Mexico</td>\n",
       "      <td>December 23, 2016</td>\n",
       "      <td>2016</td>\n",
       "      <td>93</td>\n",
       "      <td>After a devastating earthquake hits Mexico Cit...</td>\n",
       "      <td>Dramas</td>\n",
       "    </tr>\n",
       "    <tr>\n",
       "      <th>1</th>\n",
       "      <td>s3</td>\n",
       "      <td>Movie</td>\n",
       "      <td>23:59</td>\n",
       "      <td>Gilbert Chan</td>\n",
       "      <td>Tedd Chan, Stella Chung, Henley Hii, Lawrence ...</td>\n",
       "      <td>Singapore</td>\n",
       "      <td>December 20, 2018</td>\n",
       "      <td>2011</td>\n",
       "      <td>78</td>\n",
       "      <td>When an army recruit is found dead, his fellow...</td>\n",
       "      <td>Horror Movies</td>\n",
       "    </tr>\n",
       "    <tr>\n",
       "      <th>2</th>\n",
       "      <td>s4</td>\n",
       "      <td>Movie</td>\n",
       "      <td>9</td>\n",
       "      <td>Shane Acker</td>\n",
       "      <td>Elijah Wood, John C. Reilly, Jennifer Connelly...</td>\n",
       "      <td>United States</td>\n",
       "      <td>November 16, 2017</td>\n",
       "      <td>2009</td>\n",
       "      <td>80</td>\n",
       "      <td>In a postapocalyptic world, rag-doll robots hi...</td>\n",
       "      <td>Action</td>\n",
       "    </tr>\n",
       "    <tr>\n",
       "      <th>3</th>\n",
       "      <td>s5</td>\n",
       "      <td>Movie</td>\n",
       "      <td>21</td>\n",
       "      <td>Robert Luketic</td>\n",
       "      <td>Jim Sturgess, Kevin Spacey, Kate Bosworth, Aar...</td>\n",
       "      <td>United States</td>\n",
       "      <td>January 1, 2020</td>\n",
       "      <td>2008</td>\n",
       "      <td>123</td>\n",
       "      <td>A brilliant group of students become card-coun...</td>\n",
       "      <td>Dramas</td>\n",
       "    </tr>\n",
       "    <tr>\n",
       "      <th>4</th>\n",
       "      <td>s6</td>\n",
       "      <td>TV Show</td>\n",
       "      <td>46</td>\n",
       "      <td>Serdar Akar</td>\n",
       "      <td>Erdal Beşikçioğlu, Yasemin Allen, Melis Birkan...</td>\n",
       "      <td>Turkey</td>\n",
       "      <td>July 1, 2017</td>\n",
       "      <td>2016</td>\n",
       "      <td>1</td>\n",
       "      <td>A genetics professor experiments with a treatm...</td>\n",
       "      <td>International TV</td>\n",
       "    </tr>\n",
       "  </tbody>\n",
       "</table>\n",
       "</div>"
      ],
      "text/plain": [
       "  show_id     type  title           director  \\\n",
       "0      s2    Movie   7:19  Jorge Michel Grau   \n",
       "1      s3    Movie  23:59       Gilbert Chan   \n",
       "2      s4    Movie      9        Shane Acker   \n",
       "3      s5    Movie     21     Robert Luketic   \n",
       "4      s6  TV Show     46        Serdar Akar   \n",
       "\n",
       "                                                cast        country  \\\n",
       "0  Demián Bichir, Héctor Bonilla, Oscar Serrano, ...         Mexico   \n",
       "1  Tedd Chan, Stella Chung, Henley Hii, Lawrence ...      Singapore   \n",
       "2  Elijah Wood, John C. Reilly, Jennifer Connelly...  United States   \n",
       "3  Jim Sturgess, Kevin Spacey, Kate Bosworth, Aar...  United States   \n",
       "4  Erdal Beşikçioğlu, Yasemin Allen, Melis Birkan...         Turkey   \n",
       "\n",
       "          date_added  release_year  duration  \\\n",
       "0  December 23, 2016          2016        93   \n",
       "1  December 20, 2018          2011        78   \n",
       "2  November 16, 2017          2009        80   \n",
       "3    January 1, 2020          2008       123   \n",
       "4       July 1, 2017          2016         1   \n",
       "\n",
       "                                         description             genre  \n",
       "0  After a devastating earthquake hits Mexico Cit...            Dramas  \n",
       "1  When an army recruit is found dead, his fellow...     Horror Movies  \n",
       "2  In a postapocalyptic world, rag-doll robots hi...            Action  \n",
       "3  A brilliant group of students become card-coun...            Dramas  \n",
       "4  A genetics professor experiments with a treatm...  International TV  "
      ]
     },
     "execution_count": 40,
     "metadata": {},
     "output_type": "execute_result"
    }
   ],
   "source": [
    "netflix_df.head()"
   ]
  },
  {
   "cell_type": "code",
   "execution_count": 98,
   "id": "0eda5eb3-baf7-4ad5-92b8-dbf31bd02fc8",
   "metadata": {
    "tags": []
   },
   "outputs": [
    {
     "data": {
      "text/html": [
       "<div>\n",
       "<style scoped>\n",
       "    .dataframe tbody tr th:only-of-type {\n",
       "        vertical-align: middle;\n",
       "    }\n",
       "\n",
       "    .dataframe tbody tr th {\n",
       "        vertical-align: top;\n",
       "    }\n",
       "\n",
       "    .dataframe thead th {\n",
       "        text-align: right;\n",
       "    }\n",
       "</style>\n",
       "<table border=\"1\" class=\"dataframe\">\n",
       "  <thead>\n",
       "    <tr style=\"text-align: right;\">\n",
       "      <th></th>\n",
       "      <th>show_id</th>\n",
       "      <th>type</th>\n",
       "      <th>title</th>\n",
       "      <th>director</th>\n",
       "      <th>cast</th>\n",
       "      <th>country</th>\n",
       "      <th>date_added</th>\n",
       "      <th>release_year</th>\n",
       "      <th>duration</th>\n",
       "      <th>description</th>\n",
       "      <th>genre</th>\n",
       "    </tr>\n",
       "  </thead>\n",
       "  <tbody>\n",
       "    <tr>\n",
       "      <th>0</th>\n",
       "      <td>s2</td>\n",
       "      <td>Movie</td>\n",
       "      <td>7:19</td>\n",
       "      <td>Jorge Michel Grau</td>\n",
       "      <td>Demián Bichir, Héctor Bonilla, Oscar Serrano, ...</td>\n",
       "      <td>Mexico</td>\n",
       "      <td>December 23, 2016</td>\n",
       "      <td>1990</td>\n",
       "      <td>93</td>\n",
       "      <td>After a devastating earthquake hits Mexico Cit...</td>\n",
       "      <td>Dramas</td>\n",
       "    </tr>\n",
       "    <tr>\n",
       "      <th>1</th>\n",
       "      <td>s3</td>\n",
       "      <td>Movie</td>\n",
       "      <td>23:59</td>\n",
       "      <td>Gilbert Chan</td>\n",
       "      <td>Tedd Chan, Stella Chung, Henley Hii, Lawrence ...</td>\n",
       "      <td>Singapore</td>\n",
       "      <td>December 20, 2018</td>\n",
       "      <td>1990</td>\n",
       "      <td>78</td>\n",
       "      <td>When an army recruit is found dead, his fellow...</td>\n",
       "      <td>Horror Movies</td>\n",
       "    </tr>\n",
       "  </tbody>\n",
       "</table>\n",
       "</div>"
      ],
      "text/plain": [
       "  show_id   type  title           director  \\\n",
       "0      s2  Movie   7:19  Jorge Michel Grau   \n",
       "1      s3  Movie  23:59       Gilbert Chan   \n",
       "\n",
       "                                                cast    country  \\\n",
       "0  Demián Bichir, Héctor Bonilla, Oscar Serrano, ...     Mexico   \n",
       "1  Tedd Chan, Stella Chung, Henley Hii, Lawrence ...  Singapore   \n",
       "\n",
       "          date_added  release_year  duration  \\\n",
       "0  December 23, 2016          1990        93   \n",
       "1  December 20, 2018          1990        78   \n",
       "\n",
       "                                         description          genre  \n",
       "0  After a devastating earthquake hits Mexico Cit...         Dramas  \n",
       "1  When an army recruit is found dead, his fellow...  Horror Movies  "
      ]
     },
     "execution_count": 98,
     "metadata": {},
     "output_type": "execute_result"
    }
   ],
   "source": [
    "#subsetting for type = Movie\n",
    "net_movie = netflix_df[netflix_df[\"type\"]==\"Movie\"]\n",
    "net_movie.head(2)"
   ]
  },
  {
   "cell_type": "code",
   "execution_count": 110,
   "id": "07b957b0-1000-423a-9adb-5e10d9c70f8e",
   "metadata": {
    "tags": []
   },
   "outputs": [],
   "source": [
    "#filtering for year = year 1990 onwards\n",
    "net_year19 = net_movie[net_movie[\"release_year\"]>=1990]"
   ]
  },
  {
   "cell_type": "code",
   "execution_count": 112,
   "id": "cfe102dd-34d9-4d17-b9a1-4b42a02da254",
   "metadata": {
    "tags": []
   },
   "outputs": [],
   "source": [
    "#keep movies released on or before 2000 from df net_year19\n",
    "net_year20 = net_year19[net_year19[\"release_year\"]<2000]"
   ]
  },
  {
   "cell_type": "code",
   "execution_count": 120,
   "id": "4ebffa21-b875-47c8-99fe-72f77cdd1500",
   "metadata": {
    "tags": []
   },
   "outputs": [
    {
     "data": {
      "image/png": "[encoded data removed]",
      "text/plain": [
       "<Figure size 640x480 with 1 Axes>"
      ]
     },
     "metadata": {},
     "output_type": "display_data"
    }
   ],
   "source": [
    "#Visualizing duration column of filtered data to see distribution of movie durations\n",
    "plt.hist(net_year20[\"duration\"])\n",
    "plt.title(\"Distribution of Movie Durations in the 1990s\")\n",
    "plt.xlabel(\"Duration,minutes\")\n",
    "plt.ylabel(\"Number of Movies\")\n",
    "plt.show();"
   ]
  },
  {
   "cell_type": "markdown",
   "id": "5fb49cc8-d1de-4f85-a1fe-364156ac5319",
   "metadata": {},
   "source": [
    "**Ans: Most frequent movie duration = 100**"
   ]
  },
  {
   "cell_type": "markdown",
   "id": "9727bfd4-f457-4f86-8b59-88de6583e1c8",
   "metadata": {},
   "source": [
    "### Part B : Solution"
   ]
  },
  {
   "cell_type": "code",
   "execution_count": 130,
   "id": "aef0cc32-ab53-4125-8a41-c8d64b781978",
   "metadata": {
    "tags": []
   },
   "outputs": [
    {
     "data": {
      "text/html": [
       "<div>\n",
       "<style scoped>\n",
       "    .dataframe tbody tr th:only-of-type {\n",
       "        vertical-align: middle;\n",
       "    }\n",
       "\n",
       "    .dataframe tbody tr th {\n",
       "        vertical-align: top;\n",
       "    }\n",
       "\n",
       "    .dataframe thead th {\n",
       "        text-align: right;\n",
       "    }\n",
       "</style>\n",
       "<table border=\"1\" class=\"dataframe\">\n",
       "  <thead>\n",
       "    <tr style=\"text-align: right;\">\n",
       "      <th></th>\n",
       "      <th>show_id</th>\n",
       "      <th>type</th>\n",
       "      <th>title</th>\n",
       "      <th>director</th>\n",
       "      <th>cast</th>\n",
       "      <th>country</th>\n",
       "      <th>date_added</th>\n",
       "      <th>release_year</th>\n",
       "      <th>duration</th>\n",
       "      <th>description</th>\n",
       "      <th>genre</th>\n",
       "    </tr>\n",
       "  </thead>\n",
       "  <tbody>\n",
       "    <tr>\n",
       "      <th>2</th>\n",
       "      <td>s4</td>\n",
       "      <td>Movie</td>\n",
       "      <td>9</td>\n",
       "      <td>Shane Acker</td>\n",
       "      <td>Elijah Wood, John C. Reilly, Jennifer Connelly...</td>\n",
       "      <td>United States</td>\n",
       "      <td>November 16, 2017</td>\n",
       "      <td>1990</td>\n",
       "      <td>80</td>\n",
       "      <td>In a postapocalyptic world, rag-doll robots hi...</td>\n",
       "      <td>Action</td>\n",
       "    </tr>\n",
       "    <tr>\n",
       "      <th>16</th>\n",
       "      <td>s22</td>\n",
       "      <td>Movie</td>\n",
       "      <td>​Goli Soda 2</td>\n",
       "      <td>Vijay Milton</td>\n",
       "      <td>Samuthirakani, Bharath Seeni, Vinoth, Esakki B...</td>\n",
       "      <td>India</td>\n",
       "      <td>September 15, 2018</td>\n",
       "      <td>1990</td>\n",
       "      <td>128</td>\n",
       "      <td>A taxi driver, a gangster and an athlete strug...</td>\n",
       "      <td>Action</td>\n",
       "    </tr>\n",
       "    <tr>\n",
       "      <th>32</th>\n",
       "      <td>s45</td>\n",
       "      <td>Movie</td>\n",
       "      <td>Æon Flux</td>\n",
       "      <td>Karyn Kusama</td>\n",
       "      <td>Charlize Theron, Marton Csokas, Jonny Lee Mill...</td>\n",
       "      <td>United States</td>\n",
       "      <td>February 1, 2018</td>\n",
       "      <td>1990</td>\n",
       "      <td>93</td>\n",
       "      <td>Aiming to hasten an uprising, the leader of an...</td>\n",
       "      <td>Action</td>\n",
       "    </tr>\n",
       "    <tr>\n",
       "      <th>37</th>\n",
       "      <td>s51</td>\n",
       "      <td>Movie</td>\n",
       "      <td>10,000 B.C.</td>\n",
       "      <td>Roland Emmerich</td>\n",
       "      <td>Steven Strait, Camilla Belle, Cliff Curtis, Jo...</td>\n",
       "      <td>United States</td>\n",
       "      <td>June 1, 2019</td>\n",
       "      <td>1990</td>\n",
       "      <td>109</td>\n",
       "      <td>Fierce mammoth hunter D'Leh sets out on an imp...</td>\n",
       "      <td>Action</td>\n",
       "    </tr>\n",
       "    <tr>\n",
       "      <th>44</th>\n",
       "      <td>s69</td>\n",
       "      <td>Movie</td>\n",
       "      <td>14 Blades</td>\n",
       "      <td>Daniel Lee</td>\n",
       "      <td>Donnie Yen, Zhao Wei, Wu Chun, Law Kar-Ying, K...</td>\n",
       "      <td>Hong Kong</td>\n",
       "      <td>April 3, 2019</td>\n",
       "      <td>1990</td>\n",
       "      <td>113</td>\n",
       "      <td>In the age of the Ming Dynasty, Quinglong is t...</td>\n",
       "      <td>Action</td>\n",
       "    </tr>\n",
       "  </tbody>\n",
       "</table>\n",
       "</div>"
      ],
      "text/plain": [
       "   show_id   type         title         director  \\\n",
       "2       s4  Movie             9      Shane Acker   \n",
       "16     s22  Movie  ​Goli Soda 2     Vijay Milton   \n",
       "32     s45  Movie      Æon Flux     Karyn Kusama   \n",
       "37     s51  Movie   10,000 B.C.  Roland Emmerich   \n",
       "44     s69  Movie     14 Blades       Daniel Lee   \n",
       "\n",
       "                                                 cast        country  \\\n",
       "2   Elijah Wood, John C. Reilly, Jennifer Connelly...  United States   \n",
       "16  Samuthirakani, Bharath Seeni, Vinoth, Esakki B...          India   \n",
       "32  Charlize Theron, Marton Csokas, Jonny Lee Mill...  United States   \n",
       "37  Steven Strait, Camilla Belle, Cliff Curtis, Jo...  United States   \n",
       "44  Donnie Yen, Zhao Wei, Wu Chun, Law Kar-Ying, K...      Hong Kong   \n",
       "\n",
       "            date_added  release_year  duration  \\\n",
       "2    November 16, 2017          1990        80   \n",
       "16  September 15, 2018          1990       128   \n",
       "32    February 1, 2018          1990        93   \n",
       "37        June 1, 2019          1990       109   \n",
       "44       April 3, 2019          1990       113   \n",
       "\n",
       "                                          description   genre  \n",
       "2   In a postapocalyptic world, rag-doll robots hi...  Action  \n",
       "16  A taxi driver, a gangster and an athlete strug...  Action  \n",
       "32  Aiming to hasten an uprising, the leader of an...  Action  \n",
       "37  Fierce mammoth hunter D'Leh sets out on an imp...  Action  \n",
       "44  In the age of the Ming Dynasty, Quinglong is t...  Action  "
      ]
     },
     "execution_count": 130,
     "metadata": {},
     "output_type": "execute_result"
    }
   ],
   "source": [
    "#Filtering genre = action\n",
    "\n",
    "movie_action = netflix_df[netflix_df[\"genre\"]==\"Action\"]\n",
    "movie_action.head()"
   ]
  },
  {
   "cell_type": "code",
   "execution_count": 134,
   "id": "b9afd46f-7ef4-426d-bfa4-b1bbcf5cec56",
   "metadata": {
    "tags": []
   },
   "outputs": [],
   "source": [
    "# Use a for loop and a counter to count how many short action movies there were in the 1990s\n",
    "\n",
    "#Initialize counter\n",
    "short_movie=0"
   ]
  },
  {
   "cell_type": "markdown",
   "id": "d6c5770c-ff56-484e-adb9-e36f253b4247",
   "metadata": {},
   "source": [
    "##### .iterrows())\n",
    "\n",
    "To iterate over rows of a Pandas DataFrame, use DataFrame.iterrows() function which returns an iterator yielding index and row data for each row."
   ]
  },
  {
   "cell_type": "code",
   "execution_count": 149,
   "id": "3d9f2463-b64b-407a-bc18-b54f35572f1f",
   "metadata": {
    "tags": []
   },
   "outputs": [
    {
     "name": "stdout",
     "output_type": "stream",
     "text": [
      "80\n"
     ]
    }
   ],
   "source": [
    "# Iterate over the labels and rows of the DataFrame and check if the duration is less than 90, if it is, add 1 to the counter, if it isn't, the counter should remain the same\n",
    "\n",
    "for index,row in movie_action.iterrows():\n",
    "    #print(index)\n",
    "    #print(row)\n",
    "    if row[\"duration\"] < 90:\n",
    "        short_movie = short_movie +1\n",
    "    else:\n",
    "        short_movie\n",
    "print(short_movie)"
   ]
  },
  {
   "cell_type": "markdown",
   "id": "80132042-9416-40e3-93a9-4433b18926a3",
   "metadata": {},
   "source": [
    "### Part B : Solution (Alternative)"
   ]
  },
  {
   "cell_type": "code",
   "execution_count": 155,
   "id": "157905b9-a642-48f5-94fd-9f6c6d7641af",
   "metadata": {
    "tags": []
   },
   "outputs": [
    {
     "data": {
      "text/plain": [
       "80"
      ]
     },
     "execution_count": 155,
     "metadata": {},
     "output_type": "execute_result"
    }
   ],
   "source": [
    "# A quicker way of counting values in a column is to use .sum() on the desired column\n",
    "(movie_action[\"duration\"] < 90).sum()"
   ]
  },
  {
   "cell_type": "markdown",
   "id": "9108ba61-d5f0-4002-be28-7c4c256cd553",
   "metadata": {},
   "source": [
    "# DataCamp Solution"
   ]
  },
  {
   "cell_type": "code",
   "execution_count": 160,
   "id": "63501016-2746-4283-9bbb-dc18383cc96a",
   "metadata": {
    "tags": []
   },
   "outputs": [
    {
     "data": {
      "image/png": "[encoded data removed]",
      "text/plain": [
       "<Figure size 640x480 with 1 Axes>"
      ]
     },
     "metadata": {},
     "output_type": "display_data"
    },
    {
     "name": "stdout",
     "output_type": "stream",
     "text": [
      "80\n"
     ]
    }
   ],
   "source": [
    "#Subset the DataFrame for type \"Movie\"\n",
    "netflix_subset = netflix_df[netflix_df[\"type\"] == \"Movie\"]\n",
    "\n",
    "# Filter the to keep only movies released in the 1990s\n",
    "# Start by filtering out movies that were released before 1990\n",
    "subset = netflix_subset[(netflix_subset[\"release_year\"] >= 1990)]\n",
    "\n",
    "# And then do the same to filter out movies released on or after 2000\n",
    "movies_1990s = subset[(subset[\"release_year\"] < 2000)]\n",
    "\n",
    "# Another way to do this step is to use the & operator which allows you to do this type of filtering in one step\n",
    "# movies_1990s = netflix_subset[(netflix_subset[\"release_year\"] >= 1990) & (netflix_subset[\"release_year\"] < 2000)]\n",
    "\n",
    "# Visualize the duration column of your filtered data to see the distribution of movie durations\n",
    "# See which bar is the highest and save the duration value, this doesn't need to be exact!\n",
    "plt.hist(movies_1990s[\"duration\"])\n",
    "plt.title('Distribution of Movie Durations in the 1990s')\n",
    "plt.xlabel('Duration (minutes)')\n",
    "plt.ylabel('Number of Movies')\n",
    "plt.show()\n",
    "\n",
    "duration = 100\n",
    "\n",
    "# Filter the data again to keep only the Action movies\n",
    "action_movies_1990s = movies_1990s[movies_1990s[\"genre\"] == \"Action\"]\n",
    "\n",
    "# Use a for loop and a counter to count how many short action movies there were in the 1990s\n",
    "\n",
    "# Start the counter\n",
    "short_movie_count = 0\n",
    "\n",
    "# Iterate over the labels and rows of the DataFrame and check if the duration is less than 90, if it is, add 1 to the counter, if it isn't, the counter should remain the same\n",
    "for label, row in action_movies_1990s.iterrows() :\n",
    "    if row[\"duration\"] < 90 :\n",
    "        short_movie_count = short_movie_count + 1\n",
    "    else:\n",
    "        short_movie_count = short_movie_count\n",
    "\n",
    "print(short_movie_count)\n",
    "\n",
    "# A quicker way of counting values in a column is to use .sum() on the desired column\n",
    "# (action_movies_1990s[\"duration\"] < 90).sum()"
   ]
  }
 ],
 "metadata": {
  "kernelspec": {
   "display_name": "Python 3 (ipykernel)",
   "language": "python",
   "name": "python3"
  },
  "language_info": {
   "codemirror_mode": {
    "name": "ipython",
    "version": 3
   },
   "file_extension": ".py",
   "mimetype": "text/x-python",
   "name": "python",
   "nbconvert_exporter": "python",
   "pygments_lexer": "ipython3",
   "version": "3.11.9"
  }
 },
 "nbformat": 4,
 "nbformat_minor": 5
}
